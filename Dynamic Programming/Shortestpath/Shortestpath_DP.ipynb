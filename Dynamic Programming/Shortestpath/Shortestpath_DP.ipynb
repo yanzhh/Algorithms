{
 "cells": [
  {
   "cell_type": "markdown",
   "metadata": {},
   "source": [
    "# Solve shortest path problem with DP\n",
    "\n",
    "## 基本原理（DAGs)\n",
    "### subproblems:\n",
    "* 如果node w 在 s 到 v 的 最短路径上，则：\n",
    "    $ s\\rightsquigarrow w$ 和 $w\\rightsquigarrow v$ 的最短路径构成了s->v的最短路径\n",
    "* 设$\\delta(s, v)$ 为s->v的最短路径，$w(u,v)$为边(u,v)的权重，则有：\n",
    "   $$\n",
    "       \\delta(s,v) = \\underset{(u,v)\\in V}{\\min}\\{\\delta(s,u) + w(u,v)\\}\n",
    "   $$\n",
    "   基本情况：$\\delta(s,s) = 0$\n",
    " * 上面的Naive Algorithm只能应用于DAG上，如有cycle存在，则原问题的子问题可能会包含原问题，造成无限循环的递归，因此不能用来求解Example2.\n",
    " \n",
    " ### Example 1 (DAG)\n",
    "![sp_DAG](https://github.com/yanzhh/Algorithms/raw/master/Figures/Dynamic%20Programming/SP_DAG_1.jpg)\n",
    " \n",
    " ### Example2\n",
    " ![sp_DP](https://github.com/yanzhh/Algorithms/raw/master/Figures/Dynamic%20Programming/SP_1.jpg)"
   ]
  },
  {
   "cell_type": "code",
   "execution_count": 8,
   "metadata": {},
   "outputs": [
    {
     "name": "stdout",
     "output_type": "stream",
     "text": [
      "shortest path from s to z is 4\n"
     ]
    }
   ],
   "source": [
    "inf = float('inf')\n",
    "# Naive Algorithm, recursive\n",
    "def sp_rec(Adj, s, v, pre):\n",
    "    \"\"\"Adj: Adjacent list of a DAG; s: start point; v: target; pre: dictionary, store the predecessor of nodes on the shortest path from s to v\"\"\"\n",
    "    if v == s:\n",
    "        pre[v] = s\n",
    "        return 0, pre\n",
    "    elif neighbour(Adj,v) == []:\n",
    "        pre[v] = None\n",
    "        return inf, pre\n",
    "    else:\n",
    "        d = {}\n",
    "        for node in neighbour(Adj,v):\n",
    "            dist = sp_rec(Adj,s,node)+Adj[node][v]\n",
    "            d[dist] = node\n",
    "        m = min(d)\n",
    "        p = d[m]   \n",
    "        pre[v] = p\n",
    "        return m, pre\n",
    "    \n",
    "def neighbour(Adj,node):\n",
    "    nblist = []\n",
    "    for i in Adj:\n",
    "        if node in Adj[i]:\n",
    "            nblist.append(i)\n",
    "    return nblist\n",
    "\n",
    "\n",
    "#Describe the graphs by Adjacent list \n",
    "# DAG in Ex.1\n",
    "Adj1 = {'r':{'s':5, 't':3}, 's':{'t':2, 'x':7}, 't':{'x':7, 'y':4, 'z':2}, 'x':{'y':-1, 'z':1}, 'y':{'z':-2}}\n",
    "s = 's'; v = 'z'\n",
    "print('shortest path from', s, 'to', v, 'is', sp_rec(Adj1,s,v))\n",
    "\n",
    "\n"
   ]
  },
  {
   "cell_type": "code",
   "execution_count": null,
   "metadata": {
    "collapsed": true
   },
   "outputs": [],
   "source": [
    "Adj2 = {'s':{'t':6, 'y':7}, 't':{'y':8, 'x':5, 'z':-4}, 'y':{'x':-3, 'z':9}, 'x':{'t':-2}, 'z':{'s':2, 'x':7}}\n",
    "s = 's'; v = 'z'\n",
    "print('shortest path from', s, 'to', v, 'is', sp_rec(Adj2,s,v))"
   ]
  }
 ],
 "metadata": {
  "kernelspec": {
   "display_name": "Python 3",
   "language": "python",
   "name": "python3"
  },
  "language_info": {
   "codemirror_mode": {
    "name": "ipython",
    "version": 3
   },
   "file_extension": ".py",
   "mimetype": "text/x-python",
   "name": "python",
   "nbconvert_exporter": "python",
   "pygments_lexer": "ipython3",
   "version": "3.6.3"
  }
 },
 "nbformat": 4,
 "nbformat_minor": 2
}
