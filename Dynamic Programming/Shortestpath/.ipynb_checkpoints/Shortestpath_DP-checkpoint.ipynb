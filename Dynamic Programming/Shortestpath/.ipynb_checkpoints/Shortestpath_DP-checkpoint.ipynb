{
 "cells": [
  {
   "cell_type": "markdown",
   "metadata": {},
   "source": [
    "# Solve shortest path problem with DP\n",
    "\n",
    "## 基本原理（DAGs)\n",
    "### subproblems:\n",
    "* 如果node w 在 s 到 v 的 最短路径上，则：\n",
    "    $ s\\rightsquigarrow w$ 和 $w\\rightsquigarrow v$ 的最短路径构成了s->v的最短路径\n",
    "* 设$\\delta(s, v)$ 为s->v的最短路径，$w(u,v)$为边(u,v)的权重，则有：\n",
    "   \\[\n",
    "       \\delta(s,v) = \\underset{(u,v)\\in V}{\\min}\\{\\delta(s,u) + w(u,v)\\}\n",
    "   \\]\n",
    "   基本情况：$\\delta(s,s) = 0$\n",
    " * 上面的Naive Algorithm只能应用于DAG上，如有cycle存在，则原问题的子问题可能会包含原问题，造成无限循环的递归，因此不能用来求解Example2.\n",
    " \n",
    " ### Example 1 (DAG)\n",
    "![sp_DAG](https://github.com/yanzhh/Algorithms/raw/master/Figures/Dynamic%20Programming/SP_DAG_1.jpg)\n",
    " \n"
   ]
  },
  {
   "cell_type": "markdown",
   "metadata": {},
   "source": [
    "#### recursive algorithm for Ex.1"
   ]
  },
  {
   "cell_type": "code",
   "execution_count": 3,
   "metadata": {},
   "outputs": [
    {
     "name": "stdout",
     "output_type": "stream",
     "text": [
      "length of shortest path from s to z is 3\n",
      "length of shortest path from s to z is 3\n",
      "The shortest path is ['s', 'x', 'y']\n"
     ]
    }
   ],
   "source": [
    "inf = float('inf')\n",
    "\n",
    "def neighbour(Adj,node):\n",
    "    nblist = []\n",
    "    for i in Adj:\n",
    "        if node in Adj[i]:\n",
    "            nblist.append(i)\n",
    "    return nblist\n",
    "\n",
    "# Naive Algorithm, recursive\n",
    "def sp_rec(Adj, s, v):\n",
    "    if v == s:\n",
    "        return 0\n",
    "    elif neighbour(Adj,v) == []:\n",
    "        return inf\n",
    "    else:\n",
    "        d = []\n",
    "        for node in neighbour(Adj,v):\n",
    "            d.append(sp_rec(Adj,s,node)+Adj[node][v])\n",
    "        return min(d)\n",
    "\n",
    "# Naive algorithm which can return the shortest path\n",
    "def sp_rec1(Adj, s, v, pre={}):\n",
    "    \"\"\"Adj: Adjacent list of a DAG; s: start point; v: target; pre: dictionary, store the predecessor of nodes on the shortest path from s to v\"\"\"\n",
    "    if v == s:\n",
    "        return 0, pre\n",
    "    elif neighbour(Adj,v) == []:\n",
    "        return inf, pre\n",
    "    else:\n",
    "        d = {}\n",
    "        tmp = pre.copy()\n",
    "        for node in neighbour(Adj,v):\n",
    "            dist,pre1 = sp_rec1(Adj, s, node, tmp)\n",
    "            dist = dist + Adj[node][v]\n",
    "            d[dist] = (node, pre1)\n",
    "        m = min(d)\n",
    "        p = d[m]   \n",
    "        pre = p[1]\n",
    "        pre[v] = p[0]\n",
    "        return m, pre\n",
    "\n",
    "\n",
    "#Describe the graphs by Adjacent list \n",
    "# DAG in Ex.1\n",
    "Adj1 = {'r':{'s':5, 't':3}, 's':{'t':2, 'x':6}, 't':{'x':7, 'y':4, 'z':2}, 'x':{'y':-1, 'z':1}, 'y':{'z':-2}, 'z':{}}\n",
    "s = 's'; v = 'z'\n",
    "length = sp_rec(Adj1,s,v)\n",
    "if length == inf:\n",
    "    print('No path from', s, 'to', v)\n",
    "else:\n",
    "    print('length of shortest path from', s, 'to', v, 'is', length)\n",
    "\n",
    "\n",
    "length, prelist = sp_rec1(Adj1,s,v)\n",
    "if length == inf:\n",
    "    print('No path from', s, 'to', v)\n",
    "else:\n",
    "    sp = []\n",
    "    for i in prelist:\n",
    "        prenode = prelist[v]\n",
    "        sp.append(prenode)\n",
    "        v = prenode\n",
    "    sp.reverse()\n",
    "    print('The shortest path is', sp )\n",
    "    print('length of shortest path from', s, 'to', v, 'is', length)"
   ]
  },
  {
   "cell_type": "markdown",
   "metadata": {},
   "source": [
    "#### DP algorithm for Ex.1"
   ]
  },
  {
   "cell_type": "code",
   "execution_count": 15,
   "metadata": {},
   "outputs": [
    {
     "name": "stdout",
     "output_type": "stream",
     "text": [
      "length of shortest path from s to s is 0\n"
     ]
    }
   ],
   "source": [
    "inf = float('inf')\n",
    "\n",
    "def neighbour(Adj,node):\n",
    "    nblist = []\n",
    "    for i in Adj:\n",
    "        if node in Adj[i]:\n",
    "            nblist.append(i)\n",
    "    return nblist\n",
    "\n",
    "# DP Algorithm, DAG \n",
    "def sp_dp_DAG(Adj, s, v, pre = {}):\n",
    "    mem = {}\n",
    "    if v in mem:\n",
    "        return mem[v]\n",
    "    else:\n",
    "        if v == s:\n",
    "            mem[v] = 0\n",
    "        elif neighbour(Adj,v) == []:\n",
    "            mem[v] = inf\n",
    "        else:\n",
    "            d = []\n",
    "            for node in neighbour(Adj,v):\n",
    "                d.append(sp_dp_DAG(Adj,s,node)+Adj[node][v])\n",
    "            mem[v] = min(d)\n",
    "        return mem[v]\n",
    "    \n",
    "Adj1 = {'r':{'s':5, 't':3}, 's':{'t':2, 'x':6}, 't':{'x':7, 'y':4, 'z':2}, 'x':{'y':-1, 'z':1}, 'y':{'z':-2}, 'z':{}}\n",
    "s = 's'; v = 's'\n",
    "length = sp_dp_DAG(Adj1,s,v)\n",
    "if length == inf:\n",
    "    print('No path from', s, 'to', v)\n",
    "else:\n",
    "    print('length of shortest path from', s, 'to', v, 'is', length)"
   ]
  },
  {
   "cell_type": "markdown",
   "metadata": {},
   "source": [
    "## General method (Could solve graph with cycles)\n",
    "### subproblem\n",
    "* 当有环路时，为了防止原问题的子问题还是原问题造成无限循环的情况，可以限制递归的次数。因此在原subproblem中加入一个参数k ：   \n",
    "    $\\delta_k(s,v) $ : the shortest path from s to v using $\\le k$ edges.\n",
    "* recurrence:   \n",
    "   \\begin{equation}\n",
    "       \\delta_k(s,v) = \\underset{(u,v)\\in V}{\\min}\\{\\delta_{k-1}(s,u) + w(u,v)\\} \\\\\n",
    "       \\delta_0(s,v) = \\inf, if s\\ne v \\\\\n",
    "       \\delta_k(s,v) = 0, \\forall k, if s = v\n",
    "   \\end{equation}\n",
    "* 最终要求解：$     \\delta_{|v|-1}(s,v) $\n",
    "\n",
    " ### Example2\n",
    " ![sp_DP](https://github.com/yanzhh/Algorithms/raw/master/Figures/Dynamic%20Programming/SP_1.jpg)"
   ]
  },
  {
   "cell_type": "code",
   "execution_count": 17,
   "metadata": {},
   "outputs": [
    {
     "name": "stdout",
     "output_type": "stream",
     "text": [
      "shortest path from s to z is -2\n"
     ]
    }
   ],
   "source": [
    "inf = float('inf')\n",
    "\n",
    "def neighbour(Adj,node):\n",
    "    nblist = []\n",
    "    for i in Adj:\n",
    "        if node in Adj[i]:\n",
    "            nblist.append(i)\n",
    "    return nblist\n",
    "\n",
    "# DP Algorithm, DAG\n",
    "def sp_dp(Adj, k, s, v):\n",
    "    if v == s:\n",
    "        return 0\n",
    "    elif k == 0 and v != s:\n",
    "        return inf\n",
    "    else:\n",
    "        d = []\n",
    "        for node in neighbour(Adj, v):\n",
    "            d.append(sp_dp(Adj, k-1, s, node) + Adj[node][v])\n",
    "        return min(d)\n",
    "    \n",
    "Adj2 = {'s':{'t':6, 'y':7}, 't':{'y':8, 'x':5, 'z':-4}, 'y':{'x':-3, 'z':9}, 'x':{'t':-2}, 'z':{'s':2, 'x':7}}\n",
    "s = 's'; v = 'z'\n",
    "print('shortest path from', s, 'to', v, 'is', sp_dp(Adj2,len(Adj2)-1,s,v)) "
   ]
  },
  {
   "cell_type": "code",
   "execution_count": null,
   "metadata": {
    "collapsed": true
   },
   "outputs": [],
   "source": []
  }
 ],
 "metadata": {
  "kernelspec": {
   "display_name": "Python 3",
   "language": "python",
   "name": "python3"
  },
  "language_info": {
   "codemirror_mode": {
    "name": "ipython",
    "version": 3
   },
   "file_extension": ".py",
   "mimetype": "text/x-python",
   "name": "python",
   "nbconvert_exporter": "python",
   "pygments_lexer": "ipython3",
   "version": "3.6.3"
  }
 },
 "nbformat": 4,
 "nbformat_minor": 2
}
