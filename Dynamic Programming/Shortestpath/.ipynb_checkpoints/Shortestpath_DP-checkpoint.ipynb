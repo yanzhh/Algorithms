{
 "cells": [
  {
   "cell_type": "markdown",
   "metadata": {},
   "source": [
    "# Solve shortest path problem with DP\n",
    "\n",
    "## 基本原理（DAGs)\n",
    "### subproblems:\n",
    "* 如果node w 在 s 到 v 的 最短路径上，则：\n",
    "    $ s\\rightsquigarrow w$ 和 $w\\rightsquigarrow v$ 的最短路径构成了s->v的最短路径\n",
    "* 设$\\delta(s, v)$ 为s->v的最短路径，$w(u,v)$为边(u,v)的权重，则有：\n",
    "   $$\n",
    "       \\delta(s,v) = \\underset{(u,v)\\in V}{\\min}\\{\\delta(s,u) + w(u,v)\\}\n",
    "   $$"
   ]
  },
  {
   "cell_type": "code",
   "execution_count": null,
   "metadata": {
    "collapsed": true
   },
   "outputs": [],
   "source": [
    "def sp(Adj, s, v):\n",
    "       \n",
    "\n",
    "\n",
    "\n",
    "\n",
    "\n",
    "\n",
    "#Define a graph by Adjacent list \n",
    "Adj = {'s':{'t':6, 'y':7}, 't':{'y':8, 'x':5, 'z':-4}, 'y':{'x':-3, 'z':9}, 'x':{'t':-2}, 'z':{'s':2, 'x':7}}"
   ]
  }
 ],
 "metadata": {
  "kernelspec": {
   "display_name": "Python 3",
   "language": "python",
   "name": "python3"
  },
  "language_info": {
   "codemirror_mode": {
    "name": "ipython",
    "version": 3
   },
   "file_extension": ".py",
   "mimetype": "text/x-python",
   "name": "python",
   "nbconvert_exporter": "python",
   "pygments_lexer": "ipython3",
   "version": "3.6.3"
  }
 },
 "nbformat": 4,
 "nbformat_minor": 2
}
