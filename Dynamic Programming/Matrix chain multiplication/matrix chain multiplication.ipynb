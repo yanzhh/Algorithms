{
 "cells": [
  {
   "cell_type": "markdown",
   "metadata": {},
   "source": [
    "# Parenthesization\n",
    "* Optimal evaluation of associative expression $A[0]\\bullet A[1] \\bullet...A[n-1]$.\n",
    "* 当A为矩阵时，便是 Matrix chain multiplication 问题 (or Matrix Chain Ordering Problem, MCOP)\n",
    "## fully parenthesized matrix chain multiplication\n",
    "* A product of matrices is fully parenthesized if it is either a <font color=red>single</font>  matrix or the product of <font color=red>two</font> fully parenthesized matrix products, surrounded by parentheses.   \n",
    "    Ex.: $ABCD = (A(B(CD))) = (A((BC)D))=((AB)(CD)) = ((A(BC))D) = (((AB)C)D)$\n",
    " \n",
    "## DP求解\n",
    " * 设矩阵$A_i$的大小为$p_{i}\\times p_{i+1}$.\n",
    " * 设 $m(i,j)$为计算 $A_{i...j}$ (i.e. $A_iA_{i+1}...A_j$) 的标量乘法次数的最小值。\n",
    "### 递归式   \n",
    "     \\begin{equation}\n",
    "     m(i,j) =\n",
    "         \\begin{cases}\n",
    "             \\underset{i\\le k < j}{\\min} \\{m(i, k) + m(k+1, j) + \\text{ cost of multiplication } (A_i ... A_k) \\text{ by }(A_{k+1} ... A_j)\\},  & i< j \\\\\n",
    "             0,  & i = j\n",
    "          \\end{cases}\n",
    "     \\end{equation}  \n",
    "### 子问题个数，即不同的m(i,j)的个数:   \n",
    "每一对满足  $ 0\\le i \\le j \\le n-1 $的i,j组合对应一个唯一的子问题，则共有$1+2+...+n = \\frac{n(n+1)}{2} \\binom{n}{2} + n $，i.e. <font color = red> $O(n^2)$</font>个子问题.\n",
    "### 子问题复杂度\n",
    "cost per subproblem: $ O(j-i) = O(n) $   \n",
    "(对于某一个k, $\\text{ cost of multiplication } (A_i ... A_{k}) \\text{ by }(A_{k+1} ... A_j)\\} = p_ip_{k+1}p_{j+1}$; k共有j-i种选择)\n",
    "### 算法运行时间\n",
    "共有$ \\Theta(n^2)$ 个子问题，每个子问题最多有n-1种考虑，故运行时间为<font color=red>$O(n^3)$</font>."
   ]
  },
  {
   "cell_type": "markdown",
   "metadata": {},
   "source": [
    "## Python implementation\n",
    "* $p = [p_0,p_1,...,p_n]$ 记录了矩阵链$A_1A_2...A_n$中每个矩阵的大小：$A_i: p_i\\times p_{i+1}$.\n",
    "* 自底向上方法按矩阵链长度l递增的顺序来实现算法。ps: l即包含矩阵$A_i, A_j$的所有矩阵的个数。\n",
    "* s记录最佳的m(i,j)的分割点k."
   ]
  },
  {
   "cell_type": "markdown",
   "metadata": {},
   "source": [
    "### From bottom to up"
   ]
  },
  {
   "cell_type": "code",
   "execution_count": 4,
   "metadata": {},
   "outputs": [
    {
     "name": "stdout",
     "output_type": "stream",
     "text": [
      "m = [[     0.  15750.   7875.   9375.  11875.  15125.]\n",
      " [    inf      0.   2625.   4375.   7125.  10500.]\n",
      " [    inf     inf      0.    750.   2500.   5375.]\n",
      " [    inf     inf     inf      0.   1000.   3500.]\n",
      " [    inf     inf     inf     inf      0.   5000.]\n",
      " [    inf     inf     inf     inf     inf      0.]] \n",
      " s =\n",
      " [[ inf   0.   0.   2.   2.   2.]\n",
      " [ inf  inf   1.   2.   2.   2.]\n",
      " [ inf  inf  inf   2.   2.   2.]\n",
      " [ inf  inf  inf  inf   3.   4.]\n",
      " [ inf  inf  inf  inf  inf   4.]\n",
      " [ inf  inf  inf  inf  inf  inf]]\n"
     ]
    }
   ],
   "source": [
    "class table(object):\n",
    "    def __init__(self, size):\n",
    "        \"\"\"size: tuple (#columns, #rows)\"\"\"\n",
    "        ncol = size[0]; nrow = size[1]\n",
    "        self.table = [[None]*nrow] * ncol\n",
    "        \n",
    "    def settable(self, m, n, value):\n",
    "        self.table[m][n] = value\n",
    "\n",
    "import numpy as np\n",
    "\n",
    "inf = float('inf')\n",
    "def MCOP(p):\n",
    "    n = len(p) - 1\n",
    "    m = np.asarray([[inf]*n]*n)\n",
    "    s = np.asarray([[inf]*n]*n)\n",
    "    \n",
    "    for i in range(n):  # case: j=i\n",
    "        m[i][i] = 0 \n",
    "    for l in range(2, n+1): # case: j!= i; then length l>=2\n",
    "        for i in range(n-l+1): #要保证矩阵链的长度为l，则对应的i可以的取值范围为 0~n-l\n",
    "            j = i + l -1 # [i,j]长度为l，则j = i+l-1\n",
    "            for k in range(i, j):\n",
    "                q = m[i][k] + m[k+1][j] + p[i]*p[k+1]*p[j+1]\n",
    "                if q < m[i][j]:\n",
    "                    m[i][j] = q\n",
    "                    s[i][j] = k\n",
    "    return m,s\n",
    "\n",
    "p = [30,35,15,5,10,20,25]\n",
    "\n",
    "m, s = MCOP(p)\n",
    "print('m =', m, '\\n','s =\\n', s)"
   ]
  },
  {
   "cell_type": "markdown",
   "metadata": {
    "collapsed": true
   },
   "source": [
    "### Memorized"
   ]
  },
  {
   "cell_type": "code",
   "execution_count": 8,
   "metadata": {},
   "outputs": [
    {
     "name": "stdout",
     "output_type": "stream",
     "text": [
      "m = [[     0.  15750.   7875.   9375.  11875.  15125.]\n",
      " [    inf      0.   2625.   4375.   7125.  10500.]\n",
      " [    inf     inf      0.    750.   2500.   5375.]\n",
      " [    inf     inf     inf      0.   1000.   3500.]\n",
      " [    inf     inf     inf     inf      0.   5000.]\n",
      " [    inf     inf     inf     inf     inf      0.]] \n",
      " s= [[ inf   0.   0.   2.   2.   2.]\n",
      " [ inf  inf   1.   2.   2.   2.]\n",
      " [ inf  inf  inf   2.   2.   2.]\n",
      " [ inf  inf  inf  inf   3.   4.]\n",
      " [ inf  inf  inf  inf  inf   4.]\n",
      " [ inf  inf  inf  inf  inf  inf]]\n"
     ]
    }
   ],
   "source": [
    "import numpy as np\n",
    "\n",
    "inf = float('inf')\n",
    "def Memorized_MC(p):\n",
    "    n = len(p) - 1\n",
    "    m = np.asarray([[inf]*n]*n)\n",
    "    s = np.asarray([[inf]*n]*n)\n",
    "    return lookup_chain1(m,p,0,n-1,s)\n",
    "\n",
    "def lookup_chain(m,p,i,j,s):\n",
    "    if m[i][j] < inf:\n",
    "        return m[i][j], s\n",
    "    if i == j:\n",
    "        m[i][j] = 0\n",
    "    else:\n",
    "        for k in range(i,j):\n",
    "            q = lookup_chain(m,p,i,k,s)[0] + lookup_chain(m,p,k+1,j,s)[0] + p[i]*p[k+1]*p[j+1]\n",
    "            if q < m[i][j]:\n",
    "                m[i][j] = q\n",
    "                s[i][j] = k\n",
    "    return m[i][j],s\n",
    "\n",
    "\n",
    "def lookup_chain1(m,p,i,j,s):\n",
    "    if m[i][j] < inf:\n",
    "        return (m, s)\n",
    "    if i == j:\n",
    "        m[i][j] = 0\n",
    "    else:\n",
    "        for k in range(i,j):\n",
    "            q = lookup_chain1(m,p,i,k,s)[0][i][k] + lookup_chain1(m,p,k+1,j,s)[0][k+1][j] + p[i]*p[k+1]*p[j+1]\n",
    "            if q < m[i][j]:\n",
    "                m[i][j] = q\n",
    "                s[i][j] = k\n",
    "    return (m,s)\n",
    "\n",
    "\n",
    "\n",
    "p = [30,35,15,5,10,20,25]\n",
    "\n",
    "(m,s)= Memorized_MC(p)\n",
    "print('m =', m,'\\n', 's=', s)"
   ]
  },
  {
   "cell_type": "code",
   "execution_count": null,
   "metadata": {
    "collapsed": true
   },
   "outputs": [],
   "source": []
  }
 ],
 "metadata": {
  "kernelspec": {
   "display_name": "Python 3",
   "language": "python",
   "name": "python3"
  },
  "language_info": {
   "codemirror_mode": {
    "name": "ipython",
    "version": 3
   },
   "file_extension": ".py",
   "mimetype": "text/x-python",
   "name": "python",
   "nbconvert_exporter": "python",
   "pygments_lexer": "ipython3",
   "version": "3.6.3"
  }
 },
 "nbformat": 4,
 "nbformat_minor": 2
}
