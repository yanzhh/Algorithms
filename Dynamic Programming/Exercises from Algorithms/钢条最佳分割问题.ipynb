{
 "cells": [
  {
   "cell_type": "markdown",
   "metadata": {},
   "source": [
    "## 钢条切割问题\n",
    "给定一段长度为n的钢条和不同长度钢条售价的价格表$p(i), (i = 1,2,...)$，求切割钢条的方案，使得销售收益最大。\n",
    "\n",
    "### 递归方案\n",
    "设长度为n的钢条的最大售价为$q(n)$.\n",
    "从钢条左边开始切割，切下的左端长度为i且不再切割 (i=1,...,n)，右端长度为n-i且可以继续切割，则有：\n",
    "    $$\n",
    "        q(n) = \\max_{1\\le i\\le n}(p(i) + q(n-i))\n",
    "    $$\n",
    "\n",
    "### 代码所用变量\n",
    "* 价格表：dictionary p\n"
   ]
  },
  {
   "cell_type": "code",
   "execution_count": 14,
   "metadata": {},
   "outputs": [],
   "source": [
    "### 从上至下实现\n",
    "#记录迭代过程中的子问题的解\n",
    "def bestprice(n, p):\n",
    "    T={}\n",
    "    q = -1\n",
    "    if n in T:\n",
    "        return T[n]\n",
    "    else:\n",
    "        if n == 0:\n",
    "            T[0] = 0\n",
    "        else:\n",
    "            for i in range(1,n+1):\n",
    "                if n-i in T:\n",
    "                    q = max(q, p[i] + T[n-i])\n",
    "                else:\n",
    "                    q = max(q, p[i]+bestprice(n-i, p))\n",
    "            T[n] = q\n",
    "    return T[n]\n",
    "        "
   ]
  },
  {
   "cell_type": "code",
   "execution_count": 27,
   "metadata": {},
   "outputs": [
    {
     "name": "stdout",
     "output_type": "stream",
     "text": [
      "best price for length n= 1 is  1\n",
      "best price for length n= 2 is  5\n",
      "best price for length n= 3 is  8\n",
      "best price for length n= 4 is 10\n",
      "best price for length n= 5 is 13\n",
      "best price for length n= 6 is 17\n",
      "best price for length n= 7 is 18\n",
      "best price for length n= 8 is 22\n",
      "best price for length n= 9 is 25\n",
      "best price for length n=10 is 30\n"
     ]
    }
   ],
   "source": [
    "p = {1:1, 2:5, 3:8, 4:9, 5:10, 6:17, 7:17, 8:20, 9:24, 10:30}\n",
    "n = [1,2,3,4,5,6,7,8,9,10]\n",
    "for i in n:\n",
    "    print('best price for length n={0:2d} is {1:2d}'.format(i, bestprice(i,p)))"
   ]
  },
  {
   "cell_type": "code",
   "execution_count": null,
   "metadata": {},
   "outputs": [],
   "source": []
  }
 ],
 "metadata": {
  "kernelspec": {
   "display_name": "Python 3",
   "language": "python",
   "name": "python3"
  },
  "language_info": {
   "codemirror_mode": {
    "name": "ipython",
    "version": 3
   },
   "file_extension": ".py",
   "mimetype": "text/x-python",
   "name": "python",
   "nbconvert_exporter": "python",
   "pygments_lexer": "ipython3",
   "version": "3.6.5"
  }
 },
 "nbformat": 4,
 "nbformat_minor": 2
}
