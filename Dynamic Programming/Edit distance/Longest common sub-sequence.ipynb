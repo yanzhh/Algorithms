{
 "cells": [
  {
   "cell_type": "markdown",
   "metadata": {},
   "source": [
    "# Longest common subsequence problem 最长公共子序列问题\n",
    "给定两个序列$ X = (x_1, x_2, ..., x_m)$ 与 $Y=(y_1,y_2,...,y_n)， 求 $X$和$Y$的最长公共子序列。\n",
    "\n",
    "* 子序列：将序列中零个或多个元素去掉后得到的序列；\n",
    "* 公共子序列：给定两个序列X和Y，如果Z既是X的子序列又是Y的子序列，则Z是X和Y的公共子序列。\n",
    "\n",
    "## LCS最优子结构   \n",
    "设两个序列 $X = (x_1, x_2, ..., x_m)$ 与 $Y=(y_1,y_2,...,y_n)$的最优子序列为$ Z = (z_1, z_2, ..., z_k)$ 为X和Y的任意LCS，则有：   \n",
    "* if $x_m = y_n$, then $z_k = x_m = y_n$, and $Z_{k-1}$是 $X_{m-1}$和$Y_{n-1}$的一个LCS.\n",
    "* if $x_m \\ne y_n$, and $z_k \\ne x_m$, then Z is a LCS of $X_{m-1}$ and $Y_n$.\n",
    "* If $x_m \\ne y_n$, and $z_k \\ne y_n$, then Z is a LCS of $X_m$ and $Y_{n-1}$.\n",
    "\n",
    "## Recursive solution\n",
    "设$c(i,j)$ 为 $X_i$ 与 $Y_j$的LCS的长度。则有：   \n",
    "    \\begin{equation}\n",
    "        c(i,j) = \\begin{cases}\n",
    "                    0,   & \\text{if } i=0 \\text{ or } j = 0 \\\\\n",
    "                    c(i-1, j-1) + 1,   & \\text{if } i,j >0 \\text{ and } x_i = y_j \\\\\n",
    "                    max(c(i-1, j), c(i, j-1)),   & \\text{if } x_i \\ne y_j\n",
    "                    \\end{cases}\n",
    "    \\end{equation}"
   ]
  },
  {
   "cell_type": "markdown",
   "metadata": {},
   "source": [
    "## Python implementation\n",
    "### from bottom to up\n",
    "c保存 $c(i,j)$的值，b保存子问题的最优解。"
   ]
  },
  {
   "cell_type": "code",
   "execution_count": 11,
   "metadata": {},
   "outputs": [
    {
     "name": "stdout",
     "output_type": "stream",
     "text": [
      "c= [[ 0.  0.  0.  0.  0.  0.  0.]\n",
      " [ 0.  0.  0.  0.  1.  1.  1.]\n",
      " [ 0.  1.  1.  1.  1.  2.  2.]\n",
      " [ 0.  1.  1.  2.  2.  2.  2.]\n",
      " [ 0.  1.  1.  2.  2.  3.  3.]\n",
      " [ 0.  1.  2.  2.  2.  3.  3.]\n",
      " [ 0.  1.  2.  2.  3.  3.  4.]\n",
      " [ 0.  1.  2.  2.  3.  4.  4.]]\n",
      "The LCS is: \n",
      "B C B A "
     ]
    }
   ],
   "source": [
    "import numpy as np\n",
    "\n",
    "def LCS(x, y):\n",
    "    m = len(x)\n",
    "    n = len(y)\n",
    "    c = np.zeros((m+1,n+1))\n",
    "    b = np.asarray([[None]*n]*m)\n",
    "    for i in range(1,m+1):\n",
    "        for j in range(1, n+1):\n",
    "            if x[i-1] == y[j-1]:\n",
    "                c[i][j] = c[i-1][j-1] + 1\n",
    "                b[i-1][j-1] = 'nw'\n",
    "            elif c[i-1][j] >= c[i][j-1]:\n",
    "                c[i][j] = c[i-1][j]\n",
    "                b[i-1][j-1] = 'u'\n",
    "            else:\n",
    "                c[i][j] = c[i][j-1]\n",
    "                b[i-1][j-1] = 'l'\n",
    "    return c, b\n",
    "\n",
    "\n",
    "def print_LCS(b, x, m, n):\n",
    "    \"\"\"m,n: Lenght of X and Y\"\"\"\n",
    "    if m == 0 or n == 0:\n",
    "        return None\n",
    "    elif b[m-1][n-1] == 'nw':\n",
    "        print_LCS(b,x, m-1, n-1)\n",
    "        print(x[m-1],end = ' ')\n",
    "    elif b[m-1][n-1] == 'u':\n",
    "        print_LCS(b, x, m-1, n)\n",
    "    else: #b[m][n] == 'l'\n",
    "        print_LCS(b, x, m, n-1)\n",
    "        \n",
    "x = ['A', 'B', 'C', 'B', 'D', 'A', 'B']\n",
    "y = ['B', 'D', 'C', 'A', 'B', 'A']\n",
    "m=len(x); n=len(y)\n",
    "c, b = LCS(x, y)\n",
    "print('c=',c)\n",
    "print('The LCS is: ')\n",
    "print_LCS(b,x, m, n)"
   ]
  },
  {
   "cell_type": "code",
   "execution_count": null,
   "metadata": {
    "collapsed": true
   },
   "outputs": [],
   "source": []
  }
 ],
 "metadata": {
  "kernelspec": {
   "display_name": "Python 3",
   "language": "python",
   "name": "python3"
  },
  "language_info": {
   "codemirror_mode": {
    "name": "ipython",
    "version": 3
   },
   "file_extension": ".py",
   "mimetype": "text/x-python",
   "name": "python",
   "nbconvert_exporter": "python",
   "pygments_lexer": "ipython3",
   "version": "3.6.3"
  }
 },
 "nbformat": 4,
 "nbformat_minor": 2
}
