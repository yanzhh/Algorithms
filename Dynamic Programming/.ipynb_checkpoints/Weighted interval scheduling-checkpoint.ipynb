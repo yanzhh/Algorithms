{
 "cells": [
  {
   "cell_type": "markdown",
   "metadata": {},
   "source": [
    "# Weighted interval scheduling\n",
    "## description\n",
    "* Job j starts at $s_j$, finishs at $f_j$, and has weight or value $v_j$.\n",
    "* Two jobs <font color = red>compatible<\\font> if they don't overlap.\n",
    "* Goal: find maximum weight subset of mutually compatible jobs.\n",
    "\n",
    "## DP 求解\n",
    "* 将任务按完成时间排序，设有：$f_1\\le f_2\\le...\\le f_n$.\n",
    "* p(j) = largest index $i < j$ such that job i is compatible with j.\n",
    "* OPT(i): 任务1~i 中，compatible jobs构成的子集的weight之和的最大值。   \n",
    "### 子任务特征：   \n",
    "对于第i个任务，有选/不选两种选择。   \n",
    "不选，则$OPT(i) = OPT(i-1)$；否则，$OPT(i) = OPT(i-1) + w_i$.\n",
    "### recursive equation\n",
    "    \\begin{equation}\n",
    "        OPT(i) = \\begin{cases}\n",
    "                        0,   & \\text{if } i = 0 \\\\\n",
    "                        max(OPT(i-1), OPT(i-1) + w_i), & \\text{otherwise}\n",
    "                       \\end{cases}\n",
    "    \\end{equation}\n",
    "### 子问题数量\n",
    "$O(n)$\n",
    "### 子问题复杂度\n",
    "$O(1)$\n",
    "### 算法运行时间\n",
    "    * 将任务排序：$O(n\\lg n)$.\n",
    "    * 计算相容序列：$O(n)$；计算OPT: $O(n)$.\n",
    "    * 则总时间为：$O(n\\lg n)$. (<font color = red>PS: 如果任务已排好序，则总时间为$O(n)$<\\font>)"
   ]
  },
  {
   "cell_type": "markdown",
   "metadata": {},
   "source": [
    "## Python implementation"
   ]
  },
  {
   "cell_type": "markdown",
   "metadata": {},
   "source": [
    "### memorized version"
   ]
  },
  {
   "cell_type": "code",
   "execution_count": null,
   "metadata": {
    "collapsed": true
   },
   "outputs": [],
   "source": [
    "import bisect\n",
    "\n",
    "class job(object):\n",
    "    def __init__(self, title, start, finish, weight):\n",
    "        \"\"\"title: job title; start: start time; finish: finish time\"\"\"\n",
    "        self.title = title\n",
    "        self.start = start\n",
    "        self.finish = finish\n",
    "        self.weight = weight\n",
    "        \n",
    "    def __repr__(self):\n",
    "        return str((self.title, self.start, self.finish, self.weight))\n",
    "    \n",
    "def compatible(sortedjoblist):\n",
    "    \"\"\"sortedjoblist: joblist sorted by finish time\"\"\"\n",
    "    start = [i.start for i in sortedjoblist]\n",
    "    finish = [i.finish for i in sortedjoblist]\n",
    "    \n",
    "    p = []\n",
    "    for i in range(len(sortedjoblist)):\n",
    "        idx = bisect.bisect_right(finish, start[i])  # index of compatible job of job i(index i)\n",
    "        if idx < 0 :\n",
    "            p.append(0)\n",
    "        else:\n",
    "            p.append(idx)\n",
    "    return p\n",
    "\n",
    "\n",
    "def OPT(p, joblist, mem, i):\n",
    "    \"\"\"mem: memory list, i : find subset from job 1~i \"\"\"\n",
    "    if mem[i] != None:\n",
    "        return mem[i]\n",
    "    elif i == 0:\n",
    "        mem[i] = 0\n",
    "        return mem[i]\n",
    "    else:\n",
    "        job_i = joblist[i-1]\n",
    "        if OPT(p, joblist, mem, i-1) >= (OPT(p, joblist, mem, i-1) + job_i.weight):\n",
    "            mem[i] = OPT(p, joblist, mem, i-1)\n",
    "        else:\n",
    "            mem[i] = OPT(p, joblist, mem, i-1) + job_i.weight\n",
    "        return mem[i]\n",
    "    \n",
    "def solve(joblist):   \n",
    "    sortedjoblist = joblist.copy()\n",
    "    sortedjoblist.sort(key = lambda x: x.finish)\n",
    "    p = compatible(sortedjoblist)\n",
    "    \n",
    "    mem = [None]*(len(joblist)+1)\n",
    "#    b = [0]*(len(joblist)+1)\n",
    "    return OPT(p, joblist, mem, len(joblist))\n",
    "\n",
    "if __name__ == '__main__':\n",
    "    joblist = [job(7,6,10,2), job(4,4,7,4), job(1,1,4,5),job(6,5,9,5), job(2,3,5,1), job(5,3,8,6), job(3,0,6,8), job(8,8,11,4)]\n",
    "    print(solve(joblist))"
   ]
  }
 ],
 "metadata": {
  "kernelspec": {
   "display_name": "Python 3",
   "language": "python",
   "name": "python3"
  },
  "language_info": {
   "codemirror_mode": {
    "name": "ipython",
    "version": 3
   },
   "file_extension": ".py",
   "mimetype": "text/x-python",
   "name": "python",
   "nbconvert_exporter": "python",
   "pygments_lexer": "ipython3",
   "version": "3.6.3"
  }
 },
 "nbformat": 4,
 "nbformat_minor": 2
}
