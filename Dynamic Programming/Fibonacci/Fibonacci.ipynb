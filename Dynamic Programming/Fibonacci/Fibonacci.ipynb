{
 "cells": [
  {
   "cell_type": "markdown",
   "metadata": {},
   "source": [
    "# Fibonacci numbers\n",
    "## Problem\n",
    "$$\n",
    "        F_1 = F_2 = 1, F_n = F_{n-1} + F_{n-2}\n",
    "$$\n",
    "    Goal: computer $F_n$.\n",
    "    "
   ]
  },
  {
   "cell_type": "markdown",
   "metadata": {},
   "source": [
    "### Native Algorithm\n",
    "* recursive"
   ]
  },
  {
   "cell_type": "code",
   "execution_count": null,
   "metadata": {
    "collapsed": true
   },
   "outputs": [],
   "source": [
    "def Fib(n):\n",
    "    if n == 1 or n == 2:\n",
    "        return 1\n",
    "    else:\n",
    "        return Fib(n-1) + Fib(n-2)\n"
   ]
  },
  {
   "cell_type": "markdown",
   "metadata": {},
   "source": [
    "#### Analysis of Native Algorithm\n",
    "* T(n) = T(n-1) + T(n-2) + O(1)\n",
    "* T(n) $\\ge 2^{n/2}$\n",
    "* exponential, very bad\n",
    "* To improve this agorithm, use memorization"
   ]
  },
  {
   "cell_type": "markdown",
   "metadata": {},
   "source": [
    "### Memorized DP Program\n",
    "#### Top-down with memorization"
   ]
  },
  {
   "cell_type": "code",
   "execution_count": 24,
   "metadata": {},
   "outputs": [
    {
     "name": "stdout",
     "output_type": "stream",
     "text": [
      "Fib(10) = 55\n"
     ]
    }
   ],
   "source": [
    "def Fib(n):\n",
    "    mem = {}\n",
    "    if n == 1 or n == 2:\n",
    "        mem[n] = 1\n",
    "    elif mem.get(n,None) == None:\n",
    "        mem[n] = Fib(n-1) + Fib(n-2)\n",
    "    return mem[n]\n",
    "\n",
    "n= 10\n",
    "f = Fib(n)\n",
    "print('Fib(%d) = %d'%(n,f))"
   ]
  },
  {
   "cell_type": "markdown",
   "metadata": {},
   "source": [
    "#### or"
   ]
  },
  {
   "cell_type": "code",
   "execution_count": 23,
   "metadata": {},
   "outputs": [
    {
     "name": "stdout",
     "output_type": "stream",
     "text": [
      "Fib(10), 55\n",
      "mem {1: 1, 2: 1, 3: 2, 4: 3, 5: 5, 6: 8, 7: 13, 8: 21, 9: 34, 10: 55}\n"
     ]
    }
   ],
   "source": [
    "def Fib_1(n, mem):\n",
    "    if n in mem:\n",
    "        return mem[n]\n",
    "    else:\n",
    "        mem[n] = Fib_1(n-1, mem) + Fib_1(n-2,mem)\n",
    "        return mem[n]  \n",
    "\n",
    "mem = {1:1, 2:1}\n",
    "n = 10\n",
    "f = Fib_1(n, mem)\n",
    "print('Fib(%d), %d'%(n,f))\n",
    "print('mem', mem)"
   ]
  },
  {
   "cell_type": "markdown",
   "metadata": {},
   "source": [
    "#### Analysis of memorized DP programming"
   ]
  },
  {
   "cell_type": "markdown",
   "metadata": {},
   "source": [
    "* Fib(k) only recurses first time called $\\Rightarrow $ only n nonmemorized calls\n",
    "* memorized calls free: $\\Theta(1)$\n",
    "* So the total time is $\\Theta(n)$: Polynomial time"
   ]
  },
  {
   "cell_type": "markdown",
   "metadata": {},
   "source": [
    "#### Bottom-up method"
   ]
  },
  {
   "cell_type": "code",
   "execution_count": 26,
   "metadata": {},
   "outputs": [
    {
     "name": "stdout",
     "output_type": "stream",
     "text": [
      "Fib(10), 55\n"
     ]
    }
   ],
   "source": [
    "def bottom_up_fib(n):\n",
    "    mem = {}\n",
    "    if n <= 2:\n",
    "        return 1\n",
    "    else:\n",
    "        a = 1\n",
    "        b = 1\n",
    "        for i in range(3,n+1):\n",
    "            fib = a + b\n",
    "            (a, b) = (fib, a)\n",
    "        return fib\n",
    "    \n",
    "n = 10\n",
    "f = bottom_up_fib(n)\n",
    "print('Fib(%d), %d'%(n,f))"
   ]
  },
  {
   "cell_type": "code",
   "execution_count": null,
   "metadata": {
    "collapsed": true
   },
   "outputs": [],
   "source": []
  }
 ],
 "metadata": {
  "kernelspec": {
   "display_name": "Python 3",
   "language": "python",
   "name": "python3"
  },
  "language_info": {
   "codemirror_mode": {
    "name": "ipython",
    "version": 3
   },
   "file_extension": ".py",
   "mimetype": "text/x-python",
   "name": "python",
   "nbconvert_exporter": "python",
   "pygments_lexer": "ipython3",
   "version": "3.6.3"
  }
 },
 "nbformat": 4,
 "nbformat_minor": 2
}
