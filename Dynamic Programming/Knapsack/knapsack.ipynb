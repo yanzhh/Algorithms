{
 "cells": [
  {
   "cell_type": "markdown",
   "metadata": {},
   "source": [
    "# Knapsack problem\n",
    "## description\n",
    "* Have a list of n items, each with:  \n",
    "    * size $s_i$, _integrer_\n",
    "    * value, $v_i$\n",
    "* Have a knapsack of total size: $S$.\n",
    "* Goal: find out a subset A, such that \n",
    "    ![](http://latex.codecogs.com/gif.latex?\\begin{align*}             & \\max{ \\sum_{i\\in A} v_i} \\\\       s.t.  & \\sum_{i \\in A} s_i \\le S    \\end{align*})\n"
   ]
  },
  {
   "cell_type": "markdown",
   "metadata": {},
   "source": [
    "## Analysis\n",
    "* 对于某个item，有选与不选两种选择；设D(i)表示在i个item中选择一个子集其总体积不超过S时能得到的最大的value，则有：\n",
    "    \\begin{equation}\n",
    "        D(i) = \\max \\{D(i-1), D(i-1)+v_i\\}\n",
    "    \\end{equation}\n",
    "    但这显然不对，前一个D(i-1)表示不选择第i个item，后一个表示选择，两种情况有着不同的size。但式子里并没有体现出来。\n",
    "* 修改为：D(i, x), x表示剩余的capacity，则有：\n",
    "     \\begin{align*}\n",
    "        D(i,x) =\\begin{cases}\n",
    "                    &\\max \\{D(i-1, x), D(i-1, x-s_i)+v_i\\} & \\text{ otherwise}\\\\\n",
    "                    &D(i-1, x),   & \\text{ if } s_i > x \\\\\n",
    "                    &0, & \\text{ if } i = 0\n",
    "                    \\end{cases}\n",
    "    \\end{align*}\n",
    "*  \\# of subproblems: $\\Theta(nS)$.   \n",
    "    time = $\\Theta(nS)$."
   ]
  },
  {
   "cell_type": "markdown",
   "metadata": {},
   "source": [
    "## Python implementation\n",
    "* 自底向上方法按选择的item个数从0到n来实现算法，因此，程序必须对每一对$(i, x)$, s.t $0\\le i \\le$ #item, $0\\le x \\le S$都计算出一个值"
   ]
  },
  {
   "cell_type": "code",
   "execution_count": 9,
   "metadata": {},
   "outputs": [
    {
     "name": "stdout",
     "output_type": "stream",
     "text": [
      "c=\n",
      " [[  0.   0.   0.   0.   0.   0.   0.   0.   0.   0.   0.   0.]\n",
      " [  0.   1.   1.   1.   1.   1.   1.   1.   1.   1.   1.   1.]\n",
      " [  0.   1.   6.   7.   7.   7.   7.   7.   7.   7.   7.   7.]\n",
      " [  0.   1.   6.   7.   7.  18.  19.  24.  25.  25.  25.  25.]\n",
      " [  0.   1.   6.   7.   7.  18.  22.  24.  28.  29.  29.  40.]\n",
      " [  0.   1.   6.   7.   7.  18.  22.  28.  29.  34.  35.  40.]]\n"
     ]
    }
   ],
   "source": [
    "import numpy as np\n",
    "def knapsack(p, S):\n",
    "    m = len(p) + 1\n",
    "    n = S + 1\n",
    "    c = np.zeros((m,n))\n",
    "   # b = np.zeros(len(p))\n",
    "    \n",
    "    for i in range(1, m):\n",
    "        for x in range(1,n):\n",
    "            if p[i-1][0] > x:\n",
    "                #b[i-1] = 0\n",
    "                c[i][x] = c[i-1][x]\n",
    "            else:\n",
    "                if c[i-1][x] > c[i-1][x-p[i-1][0]] + p[i-1][1]:\n",
    "                    c[i][x] = c[i-1][x]\n",
    "                else:\n",
    "                    #b[i][x] = 1 \n",
    "                    c[i][x] = c[i-1][x-p[i-1][0]] + p[i-1][1]\n",
    "    return c              \n",
    "    \n",
    "p = [(1,1), (2, 6), (5, 18), (6, 22), (7, 28)] # p[i] = (s, v), s为item p[i] 的size, v为item p[i] 的value.    \n",
    "S = 11\n",
    "c = knapsack(p, S)\n",
    "print('c=\\n',c)"
   ]
  },
  {
   "cell_type": "markdown",
   "metadata": {},
   "source": [
    "* from top to bottom"
   ]
  },
  {
   "cell_type": "code",
   "execution_count": 11,
   "metadata": {},
   "outputs": [
    {
     "name": "stdout",
     "output_type": "stream",
     "text": [
      "c=\n",
      " 40.0\n",
      "mem = \n",
      " [[  0.   0.   0.   0.   0.   0.   0.  inf   0.   0.   0.   0.]\n",
      " [  0.  inf   1.   1.   1.   1.   1.  inf  inf   1.  inf   1.]\n",
      " [  0.  inf  inf  inf   7.   7.   7.  inf  inf  inf  inf   7.]\n",
      " [ inf  inf  inf  inf   7.  18.  inf  inf  inf  inf  inf  25.]\n",
      " [ inf  inf  inf  inf   7.  inf  inf  inf  inf  inf  inf  40.]\n",
      " [ inf  inf  inf  inf  inf  inf  inf  inf  inf  inf  inf  40.]]\n"
     ]
    }
   ],
   "source": [
    "import numpy as np\n",
    "\n",
    "inf = float('inf')\n",
    "def knapsack_1(p, i, x):\n",
    "    \n",
    "    #mem = np.zeros((m,n))\n",
    "\n",
    "    if mem[i][x] != inf:\n",
    "        return mem[i][x]\n",
    "    elif i == 0:\n",
    "        mem[i][x] = 0\n",
    "    elif p[i-1][0] > x:\n",
    "        mem[i][x] = knapsack_1(p, i-1, x)\n",
    "    else:\n",
    "        mem[i][x] = max(knapsack_1(p, i-1, x), knapsack_1(p, i-1, x-p[i-1][0])+ p[i-1][1])\n",
    "    return mem[i][x]\n",
    "\n",
    "p = [(1,1), (2, 6), (5, 18), (6, 22), (7, 28)] # p[i] = (s, v), s为item p[i] 的size, v为item p[i] 的value.    \n",
    "S = 11\n",
    "m = len(p) + 1\n",
    "n = S + 1\n",
    "mem = np.asarray([[inf]*n]*m)\n",
    "c = knapsack_1(p, len(p), S)\n",
    "print('c=\\n',c)\n",
    "print('mem = \\n', mem)"
   ]
  },
  {
   "cell_type": "code",
   "execution_count": null,
   "metadata": {
    "collapsed": true
   },
   "outputs": [],
   "source": []
  }
 ],
 "metadata": {
  "kernelspec": {
   "display_name": "Python 3",
   "language": "python",
   "name": "python3"
  },
  "language_info": {
   "codemirror_mode": {
    "name": "ipython",
    "version": 3
   },
   "file_extension": ".py",
   "mimetype": "text/x-python",
   "name": "python",
   "nbconvert_exporter": "python",
   "pygments_lexer": "ipython3",
   "version": "3.6.3"
  }
 },
 "nbformat": 4,
 "nbformat_minor": 2
}
