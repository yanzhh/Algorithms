{
 "cells": [
  {
   "cell_type": "markdown",
   "metadata": {},
   "source": [
    "# Heap\n",
    "## What is a heap\n",
    "* heap is an array visualized as a nearly complete binary tree\n",
    "* Max heap property:\n",
    "    The key of a node >= the key of its children\n",
    "* Min heap property:\n",
    "    Min Heap defined analogously\n",
    "    \n",
    "![heap_1.jpg](https://github.com/yanzhh/Algorithms/raw/master/Figures/DataStructure/heap_1.jpg)\n",
    "\n",
    "## Heap as a tree (i is the index)\n",
    "* root of a tree: first element, i = 1\n",
    "* parent(i): i/2 is the index of node's parent\n",
    "* left(i): 2i  index of node's left child\n",
    "* right(i): 2i+1 index of node's right child\n",
    "\n",
    "\n",
    "\n"
   ]
  },
  {
   "cell_type": "markdown",
   "metadata": {},
   "source": [
    "## Max heap\n",
    "* A[i] denote the key of node i"
   ]
  },
  {
   "cell_type": "code",
   "execution_count": 17,
   "metadata": {},
   "outputs": [],
   "source": [
    "class heap(object):\n",
    "    def __init__(self):\n",
    "        self.heaplist = [0]\n",
    "        self.size = 0        \n",
    "    \n",
    "    def left(self, i):\n",
    "        l = 2*i  #left/right index of node i's children\n",
    "        if l <= len(self.heaplist) -1:\n",
    "            return l\n",
    "        else:\n",
    "            return None\n",
    "        \n",
    "    def right(self, i):\n",
    "        r = 2*i + 1 #left/right index of node i's children\n",
    "        if r <= len(self.heaplist) -1:\n",
    "            return r\n",
    "        else:\n",
    "            return None\n",
    "        \n",
    "    def exchange(self, i, j): #exchange A[i] and A[j]\n",
    "        tmp = self.heaplist[i]\n",
    "        self.heaplist[i] = self.heaplist[j]\n",
    "        self.heaplist[j] = tmp\n",
    "        \n",
    "    def maxchild(self, i):\n",
    "        l = self.left(i); r = self.right(i)\n",
    "        if l == None:    #这里包含了 r = None 的情况\n",
    "            return  r\n",
    "        elif r == None:\n",
    "            return l\n",
    "        elif self.heaplist[l] > self.heaplist[r]:\n",
    "            return l\n",
    "        else:\n",
    "            return r\n",
    "        \n",
    "    #define insert method: 将新元素x放到heaplist最后，即成为heap的一个leaf, 然后比较x与其parent的值的大小，决定是否交换x与其parent，即提升x。递归这个过程。\n",
    "    def insert(self,x):\n",
    "        self.heaplist.append(x)\n",
    "        self.size += 1\n",
    "        idx = len(self.heaplist)-1\n",
    "        while self.heaplist[idx//2] < x:\n",
    "            self.exchange(self, idx, idx//2)\n",
    "            idx = idx // 2\n",
    "            \n",
    "    #define: maxheapify(A,i), assume the tree rooted at left(i) and right(i) are max heaps, then maxheapify(A,i) will exchange A[i] and one of its children if A[i] is smaller than it.\n",
    "    def maxheapify(self,i): #A[i], A[left[i]], A[right[i]]中最大的index记为j, 如果j!= i, 则，交换A[i]与A[j], 运行 maxheapify(self,j)\n",
    "        assert i <= len(self.heaplist)-1, 'index is out of range'\n",
    "        largest = i\n",
    "        maxchild = self.maxchild(i)\n",
    "        if maxchild != None and self.heaplist[maxchild] > self.heaplist[i]:\n",
    "            largest = maxchild\n",
    "        if largest != i:\n",
    "            self.exchange(i,largest)\n",
    "            self.maxheapify(largest)\n",
    "            \n",
    "    # define: buildmaxheap(A,array), produce a max heap from an unordered array.\n",
    "    # do maxheapify on indexes of parents in [1, n//2]    \n",
    "    def buildmaxheap(self, alist):\n",
    "        self.heaplist += alist\n",
    "        self.size += len(alist)\n",
    "        i = self.size//2\n",
    "        while i > 0:\n",
    "            self.maxheapify(i)\n",
    "            i -= 1"
   ]
  },
  {
   "cell_type": "code",
   "execution_count": 19,
   "metadata": {},
   "outputs": [
    {
     "name": "stdout",
     "output_type": "stream",
     "text": [
      "[16, 14, 9, 10, 7, 8, 3, 1, 4, 2]\n"
     ]
    }
   ],
   "source": [
    "h = heap()\n",
    "h.buildmaxheap([1,2,3,4,7,8,9,10,14,16])\n",
    "print(h.heaplist[1:]) "
   ]
  },
  {
   "cell_type": "markdown",
   "metadata": {},
   "source": [
    "## Analysis\n",
    "### maxheapify(A,i) 的复杂度\n",
    "* exchange A[i] with A[largest], where largest = left(i) or right(i), 需要 $\\Phi(1)$\n",
    "* 在 i 的一个child为根节点的子树上运行 maxheapify. （设i为根节点的子树结点数为n)\n",
    "    * 这个子树最大为2n/3 (最底层半满. 设最底层node数为y, child为根节点的子树node数为 x, 则有：y+y+(y-1)=n, y+2(x-y)+1=n; i.e. x = (2n-1)/3. )\n",
    "    * 所需时间为 $T(2n/3)$.\n",
    "* 则有：$T(n) = T(2n/3) + \\Phi(1) \\Rightarrow T(n) = O(lg n)$ (实际上，这与堆的高度有关，节点数为n的堆的高度为$\\lfloor lg n \\rfloor$.\n",
    " "
   ]
  },
  {
   "cell_type": "markdown",
   "metadata": {},
   "source": [
    "## build max heap 的复杂度\n",
    "* $O(n)$"
   ]
  },
  {
   "cell_type": "code",
   "execution_count": null,
   "metadata": {},
   "outputs": [],
   "source": []
  }
 ],
 "metadata": {
  "kernelspec": {
   "display_name": "Python 3",
   "language": "python",
   "name": "python3"
  },
  "language_info": {
   "codemirror_mode": {
    "name": "ipython",
    "version": 3
   },
   "file_extension": ".py",
   "mimetype": "text/x-python",
   "name": "python",
   "nbconvert_exporter": "python",
   "pygments_lexer": "ipython3",
   "version": "3.6.5"
  }
 },
 "nbformat": 4,
 "nbformat_minor": 2
}
