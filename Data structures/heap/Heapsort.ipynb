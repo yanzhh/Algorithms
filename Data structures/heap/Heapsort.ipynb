{
 "cells": [
  {
   "cell_type": "markdown",
   "metadata": {},
   "source": [
    "# Heap sort\n",
    "![heapsort](https://github.com/yanzhh/Algorithms/raw/master/Figures/DataStructure/heapsort_1.jpg)"
   ]
  },
  {
   "cell_type": "code",
   "execution_count": 4,
   "metadata": {},
   "outputs": [],
   "source": [
    "from Heap import heap\n",
    "def heapsort(alist):\n",
    "    h = heap()\n",
    "    h.buildmaxheap(alist)\n",
    "    for i in range(h.size, 1, -1):\n",
    "        h.exchange(1, i)\n",
    "        h.size -= 1\n",
    "        h.maxheapify(1)\n",
    "    return h.heaplist[1:] "
   ]
  },
  {
   "cell_type": "code",
   "execution_count": 5,
   "metadata": {},
   "outputs": [
    {
     "name": "stdout",
     "output_type": "stream",
     "text": [
      "original list [1, 9, 16, 10, 8, 26, 22, 14, 18, 7]\n",
      "sorted list [1, 7, 8, 9, 10, 14, 16, 18, 22, 26]\n"
     ]
    }
   ],
   "source": [
    "if __name__ == '__main__':\n",
    "    import random\n",
    "    alist = []\n",
    "    for i in range(10):\n",
    "        alist += [random.randint(1,30)]\n",
    "    print('original list', alist)\n",
    "    blist = heapsort(alist)\n",
    "    print('sorted list', blist)\n",
    "        "
   ]
  },
  {
   "cell_type": "markdown",
   "metadata": {},
   "source": [
    "## Analysis\n",
    "* 调用一次buildmaxheap $O(n)$\n",
    "* 调用n-1次 maxheapify, 每次复杂度为 $O(lg n)$.\n",
    "* 总的复杂度为 $O(nlg n)$."
   ]
  },
  {
   "cell_type": "code",
   "execution_count": null,
   "metadata": {},
   "outputs": [],
   "source": []
  }
 ],
 "metadata": {
  "kernelspec": {
   "display_name": "Python 3",
   "language": "python",
   "name": "python3"
  },
  "language_info": {
   "codemirror_mode": {
    "name": "ipython",
    "version": 3
   },
   "file_extension": ".py",
   "mimetype": "text/x-python",
   "name": "python",
   "nbconvert_exporter": "python",
   "pygments_lexer": "ipython3",
   "version": "3.6.5"
  }
 },
 "nbformat": 4,
 "nbformat_minor": 2
}
