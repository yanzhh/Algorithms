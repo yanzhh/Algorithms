{
 "cells": [
  {
   "cell_type": "markdown",
   "metadata": {},
   "source": [
    "## Define a class BSTnode\n",
    "* Representation of a node in a binary search tree.\n",
    "* Has a left child, right child, and key value."
   ]
  },
  {
   "cell_type": "code",
   "execution_count": null,
   "metadata": {
    "collapsed": true
   },
   "outputs": [],
   "source": [
    "class BSTnode(object):\n",
    "    def __init__(self, x):\n",
    "        \"\"\"Create a new leaf with key x\"\"\"\n",
    "        self.key = x\n",
    "        self.disconnect()\n",
    "    \n",
    "    def disconnect(self):\n",
    "        self.right = None\n",
    "        self.left = None\n",
    "        self.parent = None"
   ]
  },
  {
   "cell_type": "markdown",
   "metadata": {},
   "source": [
    "## Define class BST\n",
    "* This BST supports insert, find, and delete-min operations.\n",
    "* Each tree contains some (possibly 0) BSTnode objects, representing nodes, and a pointer to the root."
   ]
  },
  {
   "cell_type": "code",
   "execution_count": 1,
   "metadata": {},
   "outputs": [
    {
     "ename": "IndentationError",
     "evalue": "unexpected indent (<ipython-input-1-2d74082c2acb>, line 7)",
     "output_type": "error",
     "traceback": [
      "\u001b[1;36m  File \u001b[1;32m\"<ipython-input-1-2d74082c2acb>\"\u001b[1;36m, line \u001b[1;32m7\u001b[0m\n\u001b[1;33m    new = BSTnode(x)\u001b[0m\n\u001b[1;37m    ^\u001b[0m\n\u001b[1;31mIndentationError\u001b[0m\u001b[1;31m:\u001b[0m unexpected indent\n"
     ]
    }
   ],
   "source": [
    "class BST(object):\n",
    "    def __init__(self):\n",
    "        self.root = None\n",
    "    \n",
    "    def insert(self, x):\n",
    "       \"\"\"Insert key x into this BST, modifying it in-place.\"\"\"\n",
    "        new = BSTnode(x)\n",
    "        if self.root == None: #no node in \n",
    "            self.root = new\n",
    "        else:  #从node = root结点开始，如果new.key < node.key, 则new放到node的左边分支，如果node.left 为空，则 node.left = new; ...\n",
    "            node = self.root\n",
    "            while True:\n",
    "                if new.key <= node.key: # go left\n",
    "                    if node.left == None:\n",
    "                        node.left = new\n",
    "                        new.parent = node\n",
    "                        break\n",
    "                    else:\n",
    "                        node = node.left\n",
    "                else:  # go right\n",
    "                    if node.right == None\n",
    "                        node.right = new\n",
    "                        new.parent = node\n",
    "                        break\n",
    "                    else:\n",
    "                        node = node.right\n",
    "        return new\n",
    "        \n",
    "    def find(self, x):\n",
    "        \"\"\"Return the node for key x if is in the tree, or None otherwise.\"\"\"\n",
    "        node = self.root\n",
    "        while True:\n",
    "            if node.key == x:\n",
    "                return node\n",
    "            elif node.key > x:\n",
    "                node = node.left\n",
    "            elif node.right < x:\n",
    "                node = node.right\n",
    "            elif node == None:  #已经遍历整棵树，但是没有node.key = x.\n",
    "                return None\n",
    "            \n",
    "    def tree_minimum(n):\n",
    "        \"\"\"返回以n为root的子树的最小key的node的指针\"\"\"\n",
    "        while n.left != None:\n",
    "            n = n.left\n",
    "        return n\n",
    "    \n",
    "    def tree_maximum(n):\n",
    "        \"\"\"返回以n为root的子树的最大key的node的指针\"\"\"\n",
    "        while n.right != None:\n",
    "            n = n.right\n",
    "        return n\n",
    "    \n",
    "    \n",
    "        \n",
    "        \n",
    "    def transplant(self, n1, n2): \n",
    "        \"\"\"将BST中，以n1为root的子树用以n2为root的子树替代。\"\"\"\n",
    "        if n1.parent == None:\n",
    "            self.root = n2\n",
    "        elif n1 == n1.parent.left: #n1在n1.parent的左子树中\n",
    "            n1.parent.left = n2\n",
    "        else:\n",
    "            n1.parent.right = n2\n",
    "        n2.parent = n1.parent\n",
    "        \n",
    "    def delete(self, n):\n",
    "        \"\"\"从BST中删除节点n\"\"\"\n",
    "        if n.left == None:\n",
    "            self.transplant(n, n.right)\n",
    "        elif n.right == None:\n",
    "            self.transplant(n, n.left)\n",
    "        else:\n",
    "            n1 = self.tree_minimum(n):\n",
    "            if n1.parent == n: #此时 n1.left == None\n",
    "                self.transplant(n, n1)\n",
    "                n1.left = n.left\n",
    "                n.left.parent = n1\n",
    "            else:\n",
    "                self.transplant(n1, n1.right)\n",
    "                n.left.parent = n1\n",
    "                n.right.parent = n1\n",
    "                n1.parent = n.parent\n",
    "                \n",
    "                "
   ]
  },
  {
   "cell_type": "code",
   "execution_count": null,
   "metadata": {
    "collapsed": true
   },
   "outputs": [],
   "source": [
    "## Analysis\n",
    "* find 从root开始递归的过程中遇到的nodes形成了一条从上到下的简单路径，路径长度就是树的高度h，故find的时间为O(h)\n",
    "* Tree_minimum 和 Tree_maximum 都能在O(h)内运行完。"
   ]
  }
 ],
 "metadata": {
  "kernelspec": {
   "display_name": "Python 3",
   "language": "python",
   "name": "python3"
  },
  "language_info": {
   "codemirror_mode": {
    "name": "ipython",
    "version": 3
   },
   "file_extension": ".py",
   "mimetype": "text/x-python",
   "name": "python",
   "nbconvert_exporter": "python",
   "pygments_lexer": "ipython3",
   "version": "3.6.3"
  }
 },
 "nbformat": 4,
 "nbformat_minor": 2
}
