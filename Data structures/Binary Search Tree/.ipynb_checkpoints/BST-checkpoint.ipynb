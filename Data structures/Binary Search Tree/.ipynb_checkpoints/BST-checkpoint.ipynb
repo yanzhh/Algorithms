{
 "cells": [
  {
   "cell_type": "markdown",
   "metadata": {},
   "source": [
    "## Define a class BSTnode\n",
    "* Representation of a node in a binary search tree.\n",
    "* Has a left child, right child, and key value."
   ]
  },
  {
   "cell_type": "code",
   "execution_count": null,
   "metadata": {},
   "outputs": [],
   "source": [
    "class BSTnode(object):\n",
    "    def __init__(self, x):\n",
    "        self.key = x\n",
    "        self.disconnect()\n",
    "    \n",
    "    def disconnect(self):\n",
    "        self.right = None\n",
    "        self.left = None\n",
    "        self.parent = None"
   ]
  },
  {
   "cell_type": "markdown",
   "metadata": {},
   "source": [
    "## Define class BST\n",
    "* This BST supports insert, find, and delete-min operations.\n",
    "* Each tree contains some (possibly 0) BSTnode objects, representing nodes, and a pointer to the root."
   ]
  },
  {
   "cell_type": "code",
   "execution_count": 1,
   "metadata": {},
   "outputs": [
    {
     "ename": "IndentationError",
     "evalue": "unexpected indent (<ipython-input-1-2d74082c2acb>, line 7)",
     "output_type": "error",
     "traceback": [
      "\u001b[1;36m  File \u001b[1;32m\"<ipython-input-1-2d74082c2acb>\"\u001b[1;36m, line \u001b[1;32m7\u001b[0m\n\u001b[1;33m    new = BSTnode(x)\u001b[0m\n\u001b[1;37m    ^\u001b[0m\n\u001b[1;31mIndentationError\u001b[0m\u001b[1;31m:\u001b[0m unexpected indent\n"
     ]
    }
   ],
   "source": [
    "class BST(object):\n",
    "    def __init__(self):\n",
    "        self.root = None\n",
    "    \n",
    "    def insert(self, x):\n",
    "       \"\"\"Insert key x into this BST, modifying it in-place.\"\"\"\n",
    "        new = BSTnode(x)\n",
    "        if self.root == None: #no node in \n",
    "            self.root = new\n",
    "        else:  #从node = root结点开始，如果node.key > new.key, 则new放在node下方；如果 node.left是None，则令 node.left = new; 否则，令\n",
    "            node = self.root\n",
    "            \n",
    "            \n",
    "        "
   ]
  }
 ],
 "metadata": {
  "kernelspec": {
   "display_name": "Python 3",
   "language": "python",
   "name": "python3"
  },
  "language_info": {
   "codemirror_mode": {
    "name": "ipython",
    "version": 3
   },
   "file_extension": ".py",
   "mimetype": "text/x-python",
   "name": "python",
   "nbconvert_exporter": "python",
   "pygments_lexer": "ipython3",
   "version": "3.6.5"
  }
 },
 "nbformat": 4,
 "nbformat_minor": 2
}
