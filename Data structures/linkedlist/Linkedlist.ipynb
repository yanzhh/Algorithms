{
 "cells": [
  {
   "cell_type": "markdown",
   "metadata": {},
   "source": [
    "# Linked list\n",
    "\n",
    "### Node\n",
    "Linked list 的基本结构是node，\n",
    "对于单链表，node包含：val 和 a reference (or a link)；\n",
    "对于双链表，node包含：val 和 two references( prev, next)\n"
   ]
  },
  {
   "cell_type": "code",
   "execution_count": 4,
   "metadata": {},
   "outputs": [],
   "source": [
    "#Define object node\n",
    "class node(object):\n",
    "    def __init__(self, data, nxt=None , prev = None):\n",
    "        self.data = data\n",
    "        self.next = nxt\n",
    "        self.prev = prev\n",
    "    \n",
    "    def getdata(self):\n",
    "        return self.data\n",
    "    \n",
    "    def getNext(self):\n",
    "        return self.next\n",
    "    \n",
    "    def getPrev(self):\n",
    "        return self.prev\n",
    "    \n",
    "    def setdata(self, data):\n",
    "        self.data = data\n",
    "        \n",
    "    def setNext(self, nxt):\n",
    "        self.next =nxt\n",
    "        \n",
    "    def setPrev(self, prev):\n",
    "        self.prev = prev\n",
    "        "
   ]
  },
  {
   "cell_type": "code",
   "execution_count": 5,
   "metadata": {},
   "outputs": [],
   "source": [
    "n1 = node(1)"
   ]
  },
  {
   "cell_type": "code",
   "execution_count": 6,
   "metadata": {},
   "outputs": [
    {
     "name": "stdout",
     "output_type": "stream",
     "text": [
      "n1.data= 1\n",
      "n1.next= None\n",
      "n1.prev= None\n"
     ]
    }
   ],
   "source": [
    "print('n1.data=',n1.getdata())\n",
    "print('n1.next=', n1.getNext())\n",
    "print('n1.prev=',n1.getPrev())"
   ]
  },
  {
   "cell_type": "markdown",
   "metadata": {},
   "source": [
    "## Unordered doubled linked list\n",
    "* isEmpty() 是否为空\n",
    "* add(node) 向链表内加入node\n",
    "* search(data) 查找第一个值为data的node，并返回其指针\n",
    "* remove(node) 移除链表内的node\n",
    "* remove(data) 移除链表内第一个值为data的node"
   ]
  },
  {
   "cell_type": "code",
   "execution_count": 10,
   "metadata": {},
   "outputs": [],
   "source": [
    "class linklist(object):  #后面所有的x都是链表中的某个node对象\n",
    "    def __init__(self):\n",
    "        self.head = None  #如果链表中有元素，设第一个元素为node x, 则self.head = x \n",
    "    \n",
    "    #是否为空\n",
    "    def isEmpty(self):\n",
    "        return self.head == None\n",
    "    \n",
    "    def search(self, data): #查找第一个dataue为data的元素，并返回指向它的指针(即那个node)\n",
    "        x = self.head\n",
    "        while x.getdata() != data and x != None:  #当x的dataue不等于data，且x不是None（还可以继续指向下一个元素）\n",
    "            x = x.getNext()\n",
    "        return x    \n",
    "    \n",
    "    def add(self, x):  #将 x 加入到链表的首位\n",
    "        x.next = self.head #x.next指向链表原来的第一个元素（如果原本为空链表，则x.next = None)\n",
    "        if self.head != None: #如果原链表第一个元素 y 不为空，则要设置y.prev = x\n",
    "            self.head.prev = x\n",
    "        self. head = x           #然后设置新的链表的第一个元素为x\n",
    "        x.prev = None     #第一个元素的prev为None.\n",
    "        \n",
    "    def remove(self, x): #x.prev(如果不为None)要设置next = x.next（无论x.next 是否为None); x.next(如果不为空) 要设置 prev = x.prev\n",
    "        prev = x.getPrev()\n",
    "        nxt = x.getNext()\n",
    "        if prev != None: #x不是第一个元素\n",
    "            prev.next = x.next\n",
    "        else:\n",
    "            self.head = nxt\n",
    "        if nxt != None:\n",
    "            nxt.prev = prev\n",
    "    \n",
    "    def removedata(self, data):\n",
    "        remove(search(data))"
   ]
  },
  {
   "cell_type": "markdown",
   "metadata": {},
   "source": [
    "### analysis\n",
    "* search 复杂度为 $\\Phi(n)$\n",
    "* add 复杂度 $O(1)$\n",
    "* remove(node) 复杂度 $O(1)$, remove(data) 因为要进行search(data)，复杂度为$\\Phi(n)$"
   ]
  },
  {
   "cell_type": "code",
   "execution_count": null,
   "metadata": {},
   "outputs": [],
   "source": []
  }
 ],
 "metadata": {
  "kernelspec": {
   "display_name": "Python 3",
   "language": "python",
   "name": "python3"
  },
  "language_info": {
   "codemirror_mode": {
    "name": "ipython",
    "version": 3
   },
   "file_extension": ".py",
   "mimetype": "text/x-python",
   "name": "python",
   "nbconvert_exporter": "python",
   "pygments_lexer": "ipython3",
   "version": "3.6.5"
  }
 },
 "nbformat": 4,
 "nbformat_minor": 2
}
