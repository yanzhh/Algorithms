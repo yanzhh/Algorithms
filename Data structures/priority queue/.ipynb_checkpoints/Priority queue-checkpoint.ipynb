{
 "cells": [
  {
   "cell_type": "markdown",
   "metadata": {},
   "source": [
    "# Priority queue\n",
    "## max priority queue"
   ]
  },
  {
   "cell_type": "code",
   "execution_count": null,
   "metadata": {
    "collapsed": true
   },
   "outputs": [],
   "source": [
    "import sys\n",
    "sys.path.append('../heap')\n",
    "from Heap import maxheap\n",
    "\n",
    "class maxpriqueue(object):\n",
    "    def __init__(self, item=[]):\n",
    "        self.queue = maxheap()\n",
    "        self.queue.buildmaxheap(item)\n",
    "            \n",
    "    def put(self, priority, item):\n",
    "        self.queue.insert((priority, item))    \n",
    "            \n",
    "    def get(self):\n",
    "        self.queue.get_max()\n",
    "\n",
    "from Heap import minheap\n",
    "\n",
    "class minpriqueue(object):\n",
    "    def __init__(self, item=[]):\n",
    "        self.queue = minheap()\n",
    "        self.queue.buildminheap(item)\n",
    "            \n",
    "    def put(self, priority, item):\n",
    "        self.queue.insert((priority, item))    \n",
    "            \n",
    "    def get(self):\n",
    "        self.queue.get_min()"
   ]
  }
 ],
 "metadata": {
  "kernelspec": {
   "display_name": "Python 3",
   "language": "python",
   "name": "python3"
  },
  "language_info": {
   "codemirror_mode": {
    "name": "ipython",
    "version": 3
   },
   "file_extension": ".py",
   "mimetype": "text/x-python",
   "name": "python",
   "nbconvert_exporter": "python",
   "pygments_lexer": "ipython3",
   "version": "3.6.5"
  }
 },
 "nbformat": 4,
 "nbformat_minor": 2
}
