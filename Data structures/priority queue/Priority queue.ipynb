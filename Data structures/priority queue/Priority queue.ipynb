{
 "cells": [
  {
   "cell_type": "markdown",
   "metadata": {},
   "source": [
    "# Priority queue\n",
    "## max priority queue"
   ]
  },
  {
   "cell_type": "code",
   "execution_count": null,
   "metadata": {
    "collapsed": true
   },
   "outputs": [],
   "source": [
    "import sys\n",
    "sys.path.append('../heap')\n",
    "from Heap import heap\n",
    "\n",
    "class maxpriqueue(object, item=[]):\n",
    "     def __init__(self):\n",
    "        self.queue = heap()\n",
    "        self.queue.buildmaxheap(item)\n",
    "            \n",
    "    def put(self, item, priority):\n",
    "        self.queue.insert((priority, item))    \n",
    "            \n",
    "    def get(self):\n",
    "        self.queue.get_max()\n",
    "\n",
    "        "
   ]
  }
 ],
 "metadata": {
  "kernelspec": {
   "display_name": "Python 3",
   "language": "python",
   "name": "python3"
  },
  "language_info": {
   "codemirror_mode": {
    "name": "ipython",
    "version": 3
   },
   "file_extension": ".py",
   "mimetype": "text/x-python",
   "name": "python",
   "nbconvert_exporter": "python",
   "pygments_lexer": "ipython3",
   "version": "3.6.5"
  }
 },
 "nbformat": 4,
 "nbformat_minor": 2
}
