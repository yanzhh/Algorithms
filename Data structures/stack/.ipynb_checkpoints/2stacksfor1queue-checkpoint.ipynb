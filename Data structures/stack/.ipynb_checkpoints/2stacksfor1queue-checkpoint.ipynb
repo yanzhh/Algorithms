{
 "cells": [
  {
   "cell_type": "markdown",
   "metadata": {},
   "source": [
    "# 用两个栈实现一个队列的功能\n",
    "* 已知栈的操作有：push(), pop(), size()"
   ]
  },
  {
   "cell_type": "markdown",
   "metadata": {},
   "source": [
    "## 定义一个栈"
   ]
  },
  {
   "cell_type": "code",
   "execution_count": 1,
   "metadata": {},
   "outputs": [],
   "source": [
    "class stack(object):\n",
    "    def __init__(self):\n",
    "        self.item = []\n",
    "        \n",
    "    def __str__(self):\n",
    "        return str(self.item)\n",
    "    \n",
    "    def push(self, x):\n",
    "        self.item.append(x)\n",
    "        \n",
    "    def pop(self):\n",
    "        if len(self.item) == 0:\n",
    "            assert len(self.item)!=0, 'underflow!'\n",
    "        else:\n",
    "            return self.item.pop()\n",
    "    \n",
    "    def clear(self):\n",
    "        self.item.clear() #or self.item.del[:]\n",
    "    \n",
    "    def isEmpty(self):\n",
    "        return len(self.item) == 0\n",
    "    \n",
    "    def size(self):\n",
    "        return len(self.item)\n",
    "    \n",
    "    def top(self):\n",
    "        return self[-1]\n",
    "    "
   ]
  },
  {
   "cell_type": "markdown",
   "metadata": {},
   "source": [
    "## 用栈实现队列\n",
    "* 使用两个stack s1, s2 实现队列 q\n",
    "* s1存储数据，s2作为缓冲区\n",
    "* q.enqueue(x) 时，s1.push(x)\n",
    "* q.dequeue() 时\n",
    "    * if s2为空，将s1的数据全部弹出到s2，s2.pop()\n",
    "    * if s2不为空，s2.pop()"
   ]
  },
  {
   "cell_type": "code",
   "execution_count": 4,
   "metadata": {},
   "outputs": [],
   "source": [
    "class queue(object):\n",
    "    def __init__(self):\n",
    "        self.s1 = stack()\n",
    "        self.s2 = stack()\n",
    "\n",
    "    def enqueue(self, x):  #不考虑overflow\n",
    "        self.s1.push(x)\n",
    "    \n",
    "    def dequeue(self):\n",
    "        if self.s2.isEmpty():\n",
    "            while self.s1.isEmpty() is False:\n",
    "                self.s2.push(self.s1.pop())\n",
    "            return self.s2.pop()\n",
    "        else:\n",
    "            return self.s2.pop()"
   ]
  },
  {
   "cell_type": "code",
   "execution_count": null,
   "metadata": {},
   "outputs": [],
   "source": []
  }
 ],
 "metadata": {
  "kernelspec": {
   "display_name": "Python 3",
   "language": "python",
   "name": "python3"
  },
  "language_info": {
   "codemirror_mode": {
    "name": "ipython",
    "version": 3
   },
   "file_extension": ".py",
   "mimetype": "text/x-python",
   "name": "python",
   "nbconvert_exporter": "python",
   "pygments_lexer": "ipython3",
   "version": "3.6.5"
  }
 },
 "nbformat": 4,
 "nbformat_minor": 2
}
