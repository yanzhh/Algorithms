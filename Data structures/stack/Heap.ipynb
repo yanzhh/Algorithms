{
 "cells": [
  {
   "cell_type": "markdown",
   "metadata": {},
   "source": [
    "# Heap\n",
    "## What is a heap\n",
    "* heap is an array visualized as a nearly complete binary tree\n",
    "* Max heap property:\n",
    "    The key of a node >= the key of its children\n",
    "* Min heap property:\n",
    "    Min Heap defined analogously\n",
    "## Heap as a tree (i is the index)\n",
    "* root of a tree: first element, i = 1\n",
    "* parent(i): i/2 is the index of node's parent\n",
    "* left(i): 2i  index of node's left child\n",
    "* right(i): 2i+1 index of node's right child"
   ]
  }
 ],
 "metadata": {
  "kernelspec": {
   "display_name": "Python 3",
   "language": "python",
   "name": "python3"
  },
  "language_info": {
   "codemirror_mode": {
    "name": "ipython",
    "version": 3
   },
   "file_extension": ".py",
   "mimetype": "text/x-python",
   "name": "python",
   "nbconvert_exporter": "python",
   "pygments_lexer": "ipython3",
   "version": "3.6.5"
  }
 },
 "nbformat": 4,
 "nbformat_minor": 2
}
