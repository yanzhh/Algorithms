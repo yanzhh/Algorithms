{
 "cells": [
  {
   "cell_type": "markdown",
   "metadata": {},
   "source": [
    "# Interval scheduling \n",
    "\n",
    "## Problem description\n",
    "* Suppose we have a set $ S=\\{a_1,...,a_n\\}$ of n proposed activities, requiring a single resource.    \n",
    "    $a_i$ has start time $s_i$ and finish time $f_i$, $0 \\le s_i \\le f_i < \\infty$.   \n",
    "    $a_i$ and $a_j$ are compatible if $f_i \\le s_j$ or $f_j \\le s_i$.\n",
    "\n",
    "* Goal: select a maximum-size subset of mutually compatible activities.\n",
    "\n",
    "* 假设活动已经按结束时间单调递增顺序排序：   \n",
    "    $f_1\\le f_2\\le... \\le f_n$"
   ]
  },
  {
   "cell_type": "markdown",
   "metadata": {},
   "source": [
    "## DP solution\n",
    "### 子问题和递归式\n",
    "* 设$S_{i,j}$为$a_i$ 结束后开始， $a_j$开始前结束的所有活动的集合， $A_{ij}$为$S_{ij}$的最大兼容子集。\n",
    "* Assume that $a_k \\in A_{ij}$. 因为 $A_{ik} = A_{ij} \\cap S_{ik}$， $A_{kj} = A_{ij} \\cap S_{kj}$ 分别也是$S_{ik}, S_{kj}$的最大兼容子集。   \n",
    "   则有：$A_{ij} = A_{ik} \\cup \\{a_k\\} \\cup A_{kj}$.\n",
    "* 设 $c(i,j)$ 为 $S_{ij}$的最优解大小，则有：$c(i,j) = c(i,k) + c(k,j) + 1$.   \n",
    "    base case: $c(i,j) = 0$, if $S_{ij} = \\emptyset$.\n",
    "* 并不知道$a_k$具体是$S_{ij}$中哪一个，因此有：\n",
    "    \\begin{equation}\n",
    "        c(i,j) = \\begin{cases}\n",
    "                    0,   & \\text{ if } S_{ij} = \\emptyset \\\\\n",
    "                    \\underset{a_k\\in S_{ij}}{\\max} (c(i,k) + c(k,j) + 1),   & \\text{ if } S_{ij} \\ne \\emptyset\n",
    "                    \\end{cases}\n",
    "    \\end{equation}"
   ]
  },
  {
   "cell_type": "markdown",
   "metadata": {},
   "source": [
    "## Greedy solution\n",
    "### 子问题\n",
    "* 思路：因为只需要选择最多的兼容活动，因此我们应当选择最早结束的活动：$a_1$.\n",
    "* 设 $S_k = \\{a_i \\in S: s_i \\ge f_k\\}$. 则选择$a_1$后，子问题为：对$S_1$求最大兼容子集。\n",
    "#### 证明算法的正确性\n",
    "* 定理：对非空子问题$S_k$，设$a_m$是$S_k$中最早结束的活动，则$a_m$在$S_k$的<font color = red>某个</font>最大兼容子集中。   \n",
    "  证明：设$A_k$是$S_k$的一个最大兼容子集，且$a_j$是$A_k$中最早结束的活动。\n",
    "    * 如果$a_j = a_m$，命题成立;\n",
    "    * 如果$a_j \\ne a_m$，因为$a_m$的结束时间早于$a_j$，则$A_k^{’}= (A_k- \\{a_k\\})\\cup \\{a_m\\}$中的各元素都相容，且$|A_k^{'}| = |A_k|$。   \n",
    "        因此$A_k^{'}$也是$S_k$的一个最大兼容子集，且包含$a_m$.\n"
   ]
  },
  {
   "cell_type": "markdown",
   "metadata": {},
   "source": [
    "## Python implementation\n",
    "### 递归贪心算法"
   ]
  },
  {
   "cell_type": "code",
   "execution_count": 1,
   "metadata": {},
   "outputs": [
    {
     "name": "stdout",
     "output_type": "stream",
     "text": [
      "[(1, 1, 4), (4, 4, 7), (8, 8, 11)]\n"
     ]
    }
   ],
   "source": [
    "# -*- coding: utf-8 -*-\n",
    "\"\"\"\n",
    "Created on Thu Jul 19 14:04:40 2018\n",
    "\n",
    "@author: Arc\n",
    "\"\"\"\n",
    "\n",
    "\n",
    "\n",
    "class wjob(object):\n",
    "    def __init__(self, title, start, finish):\n",
    "        \"\"\"title: job title; start: start time; finish: finish time\"\"\"\n",
    "        self.title = title\n",
    "        self.start = start\n",
    "        self.finish = finish\n",
    "\n",
    "        \n",
    "    def __repr__(self):\n",
    "        return str((self.title, self.start, self.finish))\n",
    "    \n",
    "def ras(sortedjoblist, k, n):\n",
    "    \"\"\"start: list of start time; finish: list of finish time; k: start index; n: total size of activity set\"\"\"\n",
    "    s = sortedjoblist\n",
    "    m = k + 1\n",
    "    while m <= n and s[m].start < s[k].finish:\n",
    "        m += 1                      #结束时 m>n: 没有与活动k相容的活动，返回None; s[m] > f[k]:返回活动 k\n",
    "    if m <= n:\n",
    "        return [s[m]] + ras(sortedjoblist, m, n)\n",
    "    else:\n",
    "        return [None]\n",
    "    \n",
    "    \n",
    "    \n",
    "def solver(joblist):\n",
    "    \"\"\"sortedjoblist: joblist sorted by finish time\"\"\"\n",
    "    joblist.append(wjob(0,0,0))\n",
    "    sortedjoblist = joblist.copy()# job 0 是虚拟任务，结束时间为0\n",
    "    sortedjoblist.sort(key = lambda x: x.finish)\n",
    "    mcs = ras(sortedjoblist, 0, len(joblist)-1)\n",
    "    if mcs[len(mcs)-1] == None:\n",
    "        mcs.pop()\n",
    "    return mcs\n",
    "\n",
    "joblist = [wjob(7,6,10), wjob(4,4,7), wjob(1,1,4),wjob(6,5,9), wjob(2,3,5), wjob(5,3,8), wjob(3,0,6), wjob(8,8,11)]\n",
    "print(solver(joblist))"
   ]
  },
  {
   "cell_type": "markdown",
   "metadata": {
    "collapsed": true
   },
   "source": [
    "#### 递归算法计算复杂度\n",
    "递归过程种，每个活动只被while检查一次，因此：\n",
    "* 排序：$O(n\\lg n)$.\n",
    "* 递归：$\\Theta(n)$.\n"
   ]
  },
  {
   "cell_type": "markdown",
   "metadata": {},
   "source": [
    "### 迭代贪心算法"
   ]
  },
  {
   "cell_type": "code",
   "execution_count": 7,
   "metadata": {},
   "outputs": [
    {
     "name": "stdout",
     "output_type": "stream",
     "text": [
      "[(1, 1, 4), (4, 4, 7), (8, 8, 11)]\n"
     ]
    }
   ],
   "source": [
    "class wjob(object):\n",
    "    def __init__(self, title, start, finish):\n",
    "        \"\"\"title: job title; start: start time; finish: finish time\"\"\"\n",
    "        self.title = title\n",
    "        self.start = start\n",
    "        self.finish = finish\n",
    "\n",
    "        \n",
    "    def __repr__(self):\n",
    "        return str((self.title, self.start, self.finish))\n",
    "    \n",
    "def ias(sortedjoblist):\n",
    "    s = sortedjoblist\n",
    "    n = len(s)-1\n",
    "    A = [s[1]]\n",
    "    k = 1\n",
    "    for m in range(2,n+1):\n",
    "        if s[m].start >= s[k].finish:\n",
    "            A.append(s[m])\n",
    "            k = m\n",
    "    return A\n",
    "\n",
    "def solver(joblist):\n",
    "    \"\"\"sortedjoblist: joblist sorted by finish time\"\"\"\n",
    "    joblist.append(wjob(0,0,0))\n",
    "    sortedjoblist = joblist.copy()# job 0 是虚拟任务，结束时间为0\n",
    "    sortedjoblist.sort(key = lambda x: x.finish)\n",
    "    mcs = ias(sortedjoblist)\n",
    "    if mcs[len(mcs)-1] == None:\n",
    "        mcs.pop()\n",
    "    return mcs\n",
    "\n",
    "joblist = [wjob(7,6,10), wjob(4,4,7), wjob(1,1,4),wjob(6,5,9), wjob(2,3,5), wjob(5,3,8), wjob(3,0,6), wjob(8,8,11)]\n",
    "print(solver(joblist))"
   ]
  },
  {
   "cell_type": "markdown",
   "metadata": {},
   "source": [
    "#### 迭代算法计算复杂度\n",
    "迭代过程：\n",
    "* 排序：$O(n\\lg n)$.\n",
    "* 迭代：$\\Theta(n)$."
   ]
  },
  {
   "cell_type": "code",
   "execution_count": null,
   "metadata": {
    "collapsed": true
   },
   "outputs": [],
   "source": []
  }
 ],
 "metadata": {
  "kernelspec": {
   "display_name": "Python 3",
   "language": "python",
   "name": "python3"
  },
  "language_info": {
   "codemirror_mode": {
    "name": "ipython",
    "version": 3
   },
   "file_extension": ".py",
   "mimetype": "text/x-python",
   "name": "python",
   "nbconvert_exporter": "python",
   "pygments_lexer": "ipython3",
   "version": "3.6.3"
  }
 },
 "nbformat": 4,
 "nbformat_minor": 2
}
