{
 "cells": [
  {
   "cell_type": "markdown",
   "metadata": {},
   "source": [
    "# Minimum spanning tree\n",
    "\n",
    "## 定义\n",
    "* Tree: connected, acyclic graph. 连通的无环图\n",
    "* MST of a graph G: G的边的一个子集，它形成了一棵树并连通了G所有的节点。\n",
    "\n",
    "## General Greedy algorithm\n",
    "* 在每个时刻生长MST的一条边，并在整个过程中，维护遵循这样一个循环不变式的边的集合A:\n",
    "    * 在每个循环之前，A是某棵MST的一个子集\n",
    "* 每一步都选择一条边$(u,v)$, 将其加入A，同时使得A不违反循环不变式，即：$ A \\bigcup \\{(u,v)\\}$ 也是某个MST的子集。这个边叫安全边。\n",
    "\n",
    "### Prim algorithm\n",
    "* A是一棵树，每次加入A的安全边是连接A和A之外的某节点的所有边中权重最小的边。\n",
    "* 对于每个节点v，有属性\n",
    "        v.key: 保存连接v和树中结点的所有边中的最小权重，不存在这种边的话，v.key$=\\infty$.   \n",
    "        v.parent: 保存v在树中的父节点。   \n",
    "\n",
    "### Kruskal algorithm\n",
    "* A是一个森林，结点为给定图中的结点，每次加入A的安全边是权重最小的连接不同分量的边。"
   ]
  },
  {
   "cell_type": "code",
   "execution_count": null,
   "metadata": {
    "collapsed": true
   },
   "outputs": [],
   "source": []
  }
 ],
 "metadata": {
  "kernelspec": {
   "display_name": "Python 3",
   "language": "python",
   "name": "python3"
  },
  "language_info": {
   "codemirror_mode": {
    "name": "ipython",
    "version": 3
   },
   "file_extension": ".py",
   "mimetype": "text/x-python",
   "name": "python",
   "nbconvert_exporter": "python",
   "pygments_lexer": "ipython3",
   "version": "3.6.3"
  }
 },
 "nbformat": 4,
 "nbformat_minor": 2
}
