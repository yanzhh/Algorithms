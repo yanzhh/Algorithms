{
 "cells": [
  {
   "cell_type": "markdown",
   "metadata": {},
   "source": [
    "# DFS Algorithm\n",
    "## Basic rules\n",
    "* follow path until you get stuck\n",
    "* backtrack along breadcrumbs until reach unexplored neighbor\n",
    "* recursively explore\n",
    "* careful not to repeat a vertex\n"
   ]
  },
  {
   "cell_type": "code",
   "execution_count": null,
   "metadata": {},
   "outputs": [],
   "source": [
    "## 思考\n",
    "    1. 从s开始，选择Adj(s)中一个node a，如果a已被遍历，则选择Adj(s)中另一点；如果a未被遍历，则记录已遍历a，并以a为起始点继续进行DFS；\n",
    "        * 则需要一个表来存储已遍历的结点，这里用dictionary 'parent' 来存储一个node的父节点信息，如果parent存在某节点，则它已被遍历\n",
    "    2. "
   ]
  }
 ],
 "metadata": {
  "kernelspec": {
   "display_name": "Python 3",
   "language": "python",
   "name": "python3"
  },
  "language_info": {
   "codemirror_mode": {
    "name": "ipython",
    "version": 3
   },
   "file_extension": ".py",
   "mimetype": "text/x-python",
   "name": "python",
   "nbconvert_exporter": "python",
   "pygments_lexer": "ipython3",
   "version": "3.6.5"
  }
 },
 "nbformat": 4,
 "nbformat_minor": 2
}
