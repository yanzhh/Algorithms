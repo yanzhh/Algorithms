{
 "cells": [
  {
   "attachments": {},
   "cell_type": "markdown",
   "metadata": {},
   "source": [
    "# BFS Algorithm\n",
    "## What we want to do\n",
    "1. Define a graph by Adjacent list\n",
    "![image.png](https://github.com/yanzhh/Algorithms/raw/master/Figures/BFS/BFS_fig1.png)\n",
    "2. we want to do a Breadth-First-Search and find the levels and parents of every point.   \n",
    "    We use dictionary to store levels and parents information."
   ]
  },
  {
   "cell_type": "code",
   "execution_count": 4,
   "metadata": {},
   "outputs": [],
   "source": [
    "Adj = {'s':['a','x'], 'a':['s','z'],'z':['a'], 'x':['s','d','c'], 'd':['f','c','x'], 'c':['x','d','f','v'], 'f':['d','c','v'], 'v':['c','f']}"
   ]
  },
  {
   "cell_type": "code",
   "execution_count": 5,
   "metadata": {},
   "outputs": [],
   "source": [
    "def BFS(Adj,s):\n",
    "    \"\"\"\n",
    "    Input:\n",
    "    Adj: Adjacent list, represent a graph.\n",
    "    s: start point\n",
    "    Output:\n",
    "    level: dictionary\n",
    "    parent: dictionary\n",
    "    \"\"\"\n",
    "    level = {s:0}   #start point is in current level: level 0\n",
    "    parent = {s:None}\n",
    "    i = 1 # next level is i\n",
    "    frontier = [s]  #points in previous level: level i-1\n",
    "    while len(frontier)!= 0: #当上一个level不为空，则循环\n",
    "        next = []   # points in next level\n",
    "        for u in frontier:  #在上一个level的points中循环\n",
    "            for v in Adj[u]:    #遍历u的所有neighbours.\n",
    "                if v not in level.keys():    #如果v没有level，即没有被遍历过\n",
    "                    next.append(v)  #则在next中加入v\n",
    "                    level[v] = i    #v的level设置为i\n",
    "                    parent[v] = u   #v的parent设置为u\n",
    "        frontier = next\n",
    "        i += 1\n",
    "    return level, parent"
   ]
  },
  {
   "cell_type": "code",
   "execution_count": 6,
   "metadata": {},
   "outputs": [
    {
     "name": "stdout",
     "output_type": "stream",
     "text": [
      "level {'s': 0, 'a': 1, 'x': 1, 'z': 2, 'd': 2, 'c': 2, 'f': 3, 'v': 3}\n",
      "parent {'s': None, 'a': 's', 'x': 's', 'z': 'a', 'd': 'x', 'c': 'x', 'f': 'd', 'v': 'c'}\n"
     ]
    }
   ],
   "source": [
    "level, parent = BFS(Adj,'s')\n",
    "print('level',level)\n",
    "print('parent',parent)"
   ]
  },
  {
   "cell_type": "markdown",
   "metadata": {},
   "source": [
    "## Analysis\n",
    "\n",
    "1. 每个vertex只进入列表 list 一次\n",
    "2. 对于每个v，只在Adj[v]中循环一次，总的循环时间为\n",
    "    $$\n",
    "        \\text{time} = \\sum_{v\\in V}|Adj(v)| = \\begin{cases}\n",
    "            & |E|, \\text{for directed graph}\\\\\n",
    "            &2|E|, \\text{for nondirected graph}\n",
    "            \\end{cases}\n",
    "     $$   \n",
    "     故共O(E)时间\n",
    "3. 还要在所有的节点上遍历，则时间共为：O(V+E)\n",
    "4. *从s到v的最短路径就是BFS(Adj,s)所生成的v的level*"
   ]
  },
  {
   "cell_type": "code",
   "execution_count": null,
   "metadata": {},
   "outputs": [],
   "source": []
  }
 ],
 "metadata": {
  "kernelspec": {
   "display_name": "Python 3",
   "language": "python",
   "name": "python3"
  },
  "language_info": {
   "codemirror_mode": {
    "name": "ipython",
    "version": 3
   },
   "file_extension": ".py",
   "mimetype": "text/x-python",
   "name": "python",
   "nbconvert_exporter": "python",
   "pygments_lexer": "ipython3",
   "version": "3.6.5"
  }
 },
 "nbformat": 4,
 "nbformat_minor": 2
}
