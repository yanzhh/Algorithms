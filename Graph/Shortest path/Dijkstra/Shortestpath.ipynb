{
 "cells": [
  {
   "cell_type": "markdown",
   "metadata": {},
   "source": [
    "# 单源最短路径问题\n",
    "## 问题描述\n",
    "* 给定：\n",
    "    带权重的有向图 $G=(V,E)$，权重函数 $\\omega = E\\rightarrow R$\n",
    "* 一条路径 $p = (v_0, v_1, ..., v_k)$的权重$\\omega(p)$是构成该路径的全部边的权重之和。\n",
    "* 从结点u到结点v的最短路径权重记为$\\delta(u,v)$\n",
    "\n",
    "## 最优子路径\n",
    "* 最短路径的子路径也是最短路径\n",
    "\n",
    "## 环路\n",
    "* 最短路径中不能包含权重为负的环路，否则最小权重为负无穷\n",
    "* 也不能包含权重为正的环路，否则可以删掉这个环路\n",
    "* 因此一般来说，假设最短路径中没有环路\n",
    "\n",
    "## Relaxation\n",
    "* 设node v的属性v.d表示source s到 v的当前最短路径长度d(s,v)；v.pi 为s到v的当前最短路径上v的predecessor； delta(s,v) 为s到v的最短路径；w(u,v): u->v边的权重\n",
    "* Initial v.d $\\forall v\\in V$;  v.d $= \\inf$, v.pi $= None$; $s.d = 0$.\n",
    "* Relaxation过程：   \n",
    "    如果s->v当前最短路径 > s->u当前最短路径 + u->v权重，则v的前驱结点应当为u, ...   \n",
    "    if d(s,v) > d(s,u) +w(u,v), then d(s,v) = d(s,u) + w(u,v), v.pi = u."
   ]
  },
  {
   "cell_type": "code",
   "execution_count": 1,
   "metadata": {},
   "outputs": [],
   "source": [
    "from queue import PriorityQueue as pq\n",
    "\n",
    "class node(object):\n",
    "    def __init__(self, source):\n",
    "        self.d = inf\n",
    "        self.pi = None\n",
    "        self.source = source\n",
    "\n",
    "inf = float('inf')\n",
    "\n",
    "def weight(Adj, u, v):\n",
    "    return Adj[u].get(v,inf) #return weight if weight of (u,v) exists, or else return infinite.\n",
    "    \n",
    "        \n",
    "def initial(Adj, s):\n",
    "    \"\"\"G: the graph representation; s: the initial node; return a priority queue which store nodes and the key value of each nodes is the node.d attributes.\"\"\"\n",
    "    Q = pq()\n",
    "    for i in Adj.keys():\n",
    "        i = node(s)\n",
    "        if i == s:\n",
    "            i.d = 0\n",
    "        Q.put((i.d,i)) #use Q to preserve the collection of nodes.\n",
    "    return Q\n",
    "\n",
    "def relax(Adj, u, v):\n",
    "    w = weight(Adj, u,v)\n",
    "    if v.d > u.d + w:\n",
    "        v.d = u.d + w\n",
    "        v.pi = u\n"
   ]
  },
  {
   "cell_type": "markdown",
   "metadata": {},
   "source": [
    "* An example\n",
    "![shortestpath_3](https://github.com/yanzhh/Algorithms/raw/master/Figures/Graph/shortestpath_3.jpg)"
   ]
  },
  {
   "cell_type": "markdown",
   "metadata": {},
   "source": [
    "* Represent this DAG by adjacent list."
   ]
  },
  {
   "cell_type": "code",
   "execution_count": 1,
   "metadata": {},
   "outputs": [],
   "source": [
    "#Adj = {'r':{'s':5, 't':3}, 's':{'x':6, 't':2}, 't':{'x':7, 'y':4, 'z':2}, 'x':{'z':1,'y':-1}, 'y':{'z':-2}}\n",
    "Adj = {'a':{'b':10, 'c':3}, 'b':{'d':2, 'c':1}, 'c':{'b':4, 'd':8, 'e':2}, 'd':{'e':7}, 'e':{'d':9} }\n",
    "s = 'A'"
   ]
  },
  {
   "cell_type": "code",
   "execution_count": null,
   "metadata": {},
   "outputs": [],
   "source": [
    "def Dijkstra(Adj, s): \n",
    "    Q = initial(Adj, s)\n",
    "    S = []\n",
    "    while Q.qsize() > 0:\n",
    "        u = Q.get() #return the node with the least distance to source node.\n",
    "        S.append(u)\n",
    "        for node in Adj[u].keys():\n",
    "            relax(u,v,weight(u,v))"
   ]
  }
 ],
 "metadata": {
  "kernelspec": {
   "display_name": "Python 3",
   "language": "python",
   "name": "python3"
  },
  "language_info": {
   "codemirror_mode": {
    "name": "ipython",
    "version": 3
   },
   "file_extension": ".py",
   "mimetype": "text/x-python",
   "name": "python",
   "nbconvert_exporter": "python",
   "pygments_lexer": "ipython3",
   "version": "3.6.5"
  }
 },
 "nbformat": 4,
 "nbformat_minor": 2
}
