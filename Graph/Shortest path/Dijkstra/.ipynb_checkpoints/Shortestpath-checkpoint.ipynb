{
 "cells": [
  {
   "cell_type": "markdown",
   "metadata": {},
   "source": [
    "# 单源最短路径问题\n",
    "## 问题描述\n",
    "* 给定：\n",
    "    带权重的有向图 $G=(V,E)$，权重函数 $\\omega = E\\rightarrow R$\n",
    "* 一条路径 $p = (v_0, v_1, ..., v_k)$的权重$\\omega(p)$是构成该路径的全部边的权重之和。\n",
    "* 从结点u到结点v的最短路径权重记为$\\delta(u,v)$\n",
    "\n",
    "## 最优子路径\n",
    "* 最短路径的子路径也是最短路径\n",
    "\n",
    "## 环路\n",
    "* 最短路径中不能包含权重为负的环路，否则最小权重为负无穷\n",
    "* 也不能包含权重为正的环路，否则可以删掉这个环路\n",
    "* 因此一般来说，假设最短路径中没有环路\n",
    "\n",
    "## Relaxation\n",
    "* 设node v的属性v.d表示source s到 v的当前最短路径的长度；v.pi 为s到v的当前最短路径上v的predecessor； delta(s,v) 为s到v的最短路径；\n",
    "* Initial v.d $\\forall v\\in V$: v.d $= \\inf$, v.pi $= None$; $s.d = 0$."
   ]
  },
  {
   "cell_type": "markdown",
   "metadata": {},
   "source": [
    "* An example\n",
    "![shortestpath_3](https://github.com/yanzhh/Algorithms/raw/master/Figures/Graph/shortestpath_2.jpg)"
   ]
  },
  {
   "cell_type": "markdown",
   "metadata": {},
   "source": [
    "* Represent this DAG by adjacent list."
   ]
  },
  {
   "cell_type": "code",
   "execution_count": 1,
   "metadata": {},
   "outputs": [],
   "source": [
    "#Adj = {'r':{'s':5, 't':3}, 's':{'x':6, 't':2}, 't':{'x':7, 'y':4, 'z':2}, 'x':{'z':1,'y':-1}, 'y':{'z':-2}}\n",
    "Adj = {'a':{'b':10, 'c':3}, 'b':{'d':2, 'c':1}, 'c':{'b':4, 'd':8, 'e':2}, 'd':{'e':7}, 'e':{'d':9} }"
   ]
  },
  {
   "cell_type": "code",
   "execution_count": null,
   "metadata": {},
   "outputs": [],
   "source": []
  }
 ],
 "metadata": {
  "kernelspec": {
   "display_name": "Python 3",
   "language": "python",
   "name": "python3"
  },
  "language_info": {
   "codemirror_mode": {
    "name": "ipython",
    "version": 3
   },
   "file_extension": ".py",
   "mimetype": "text/x-python",
   "name": "python",
   "nbconvert_exporter": "python",
   "pygments_lexer": "ipython3",
   "version": "3.6.5"
  }
 },
 "nbformat": 4,
 "nbformat_minor": 2
}
