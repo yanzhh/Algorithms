{
 "cells": [
  {
   "cell_type": "markdown",
   "metadata": {},
   "source": [
    "# 单源最短路径问题\n",
    "## 问题描述\n",
    "* 给定：\n",
    "    带权重的有向图 $G=(V,E)$，权重函数 $\\omega = E\\rightarrow R$\n",
    "* 一条路径 $p = (v_0, v_1, ..., v_k)$的权重$\\omega(p)$是构成该路径的全部边的权重之和。\n",
    "* 从结点u到结点v的最短路径权重记为$\\delta(u,v)$\n",
    "\n",
    "## 最优子路径\n",
    "* 最短路径的子路径也是最短路径\n",
    "\n",
    "## 环路\n",
    "* 最短路径中不能包含权重为负的环路，否则最小权重为负无穷\n",
    "* 也不能包含权重为正的环路，否则可以删掉这个环路\n",
    "* 因此一般来说，假设最短路径中没有环路\n",
    "\n",
    "## Relaxation\n",
    "* 设node v的属性v.d表示source s到 v的当前最短路径长度d(s,v)；v.pi 为s到v的当前最短路径上v的predecessor； delta(s,v) 为s到v的最短路径；w(u,v): u->v边的权重\n",
    "* Initial v.d $\\forall v\\in V$;  v.d $= \\inf$, v.pi $= None$; $s.d = 0$.\n",
    "* Relaxation过程：   \n",
    "    如果s->v当前最短路径 > s->u当前最短路径 + u->v权重，则v的前驱结点应当为u, ...   \n",
    "    if d(s,v) > d(s,u) +w(u,v), then d(s,v) = d(s,u) + w(u,v), v.pi = u."
   ]
  },
  {
   "cell_type": "markdown",
   "metadata": {},
   "source": [
    "* An example\n",
    "![shortestpath_3](https://github.com/yanzhh/Algorithms/raw/master/Figures/Graph/shortestpath_3.jpg)"
   ]
  },
  {
   "cell_type": "markdown",
   "metadata": {},
   "source": [
    "### Dijkstra Algorithm"
   ]
  },
  {
   "cell_type": "code",
   "execution_count": 1,
   "metadata": {
    "collapsed": true
   },
   "outputs": [],
   "source": [
    "from queue import PriorityQueue as pq\n",
    "\n",
    "def dijkstra(graph, s):\n",
    "    \"\"\"graph: graph presentated by adjacent list. s: start point\"\"\"\n",
    "    q = pq() #用来保存计算了到s路径长度的节点。使用最小优先队列\n",
    "    q.put((0,s)) #最短路径从初始点s开始\n",
    "    seen = set() #最短路径节点集合\n",
    "    seen.add(s) #加入初始点\n",
    "    parents = {s:None} #保存最短路径上节点的 predecessor\n",
    "    distance = {} # 保存最短路径上节点到s的距离\n",
    "    for node in graph:\n",
    "        distance[node] = inf\n",
    "    distance[s] = 0\n",
    "    \n",
    "    while len(seen) < len(graph):\n",
    "        dist_u, u = q.get()\n",
    "        seen.add(u)\n",
    "        neighbors = graph[u]\n",
    "        for node in neighbors:\n",
    "            if node not in seen:\n",
    "                dist_node = dist_u + graph[u][node]\n",
    "                if dist_node < distance[node]:           # relax步骤\n",
    "                    q.put((dist_node,node))\n",
    "                    distance[node] = dist_node\n",
    "                    parents[node] = u\n",
    "    return parents, distance\n",
    "\n",
    "graph = {\n",
    "            'a':{'b':10, 'c':3}, \n",
    "            'b':{'d':2, 'c':1}, \n",
    "            'c':{'b':4, 'd':8, 'e':2}, \n",
    "            'd':{'e':7}, \n",
    "            'e':{'d':9} \n",
    "            }\n",
    "s = 'a' \n",
    "\n",
    "\n",
    "inf = float('infinity')\n",
    "\n",
    "parents, distance = dijkstra(graph, s)\n",
    "print(parents)\n",
    "print(distance)"
   ]
  },
  {
   "cell_type": "markdown",
   "metadata": {},
   "source": [
    "### Bellman-Ford Algorithm"
   ]
  },
  {
   "cell_type": "code",
   "execution_count": null,
   "metadata": {
    "collapsed": true
   },
   "outputs": [],
   "source": [
    "def initial(Adj, s):\n",
    "    \n",
    "def BF(Adj, s)"
   ]
  }
 ],
 "metadata": {
  "kernelspec": {
   "display_name": "Python 3",
   "language": "python",
   "name": "python3"
  },
  "language_info": {
   "codemirror_mode": {
    "name": "ipython",
    "version": 3
   },
   "file_extension": ".py",
   "mimetype": "text/x-python",
   "name": "python",
   "nbconvert_exporter": "python",
   "pygments_lexer": "ipython3",
   "version": "3.6.3"
  }
 },
 "nbformat": 4,
 "nbformat_minor": 2
}
