{
 "cells": [
  {
   "cell_type": "markdown",
   "metadata": {},
   "source": [
    "# BFS Algorithm\n",
    "## What we want to do\n",
    "1. Define a graph by Adjacent list\n",
    "![image.png](https://github.com/yanzhh/Algorithms/raw/master/Figures/BFS/BFS_fig1.png)\n",
    "2. we want to do a Breadth-First-Search and find the levels and parents of every point.   \n",
    "    We use dictionary to store levels and parents information."
   ]
  },
  {
   "cell_type": "code",
   "execution_count": 2,
   "metadata": {
    "collapsed": true
   },
   "outputs": [],
   "source": [
    "Adj = {'s':['a','x'], 'a':['s','z'],'z':['a'], 'x':['s','d','c'], 'd':['f','c','x'], 'c':['x','d','f','v'], 'f':['d','c','v'], 'v':['c','f']}"
   ]
  },
  {
   "cell_type": "code",
   "execution_count": 3,
   "metadata": {
    "collapsed": true
   },
   "outputs": [],
   "source": [
    "def BFS(Adj,s):\n",
    "    \"\"\"\n",
    "    Input:\n",
    "    Adj: Adjacent list, represent a graph.\n",
    "    s: start point\n",
    "    Output:\n",
    "    level: dictionary\n",
    "    parent: dictionary\n",
    "    \"\"\"\n",
    "    level = {s:0}   #start point is in current level: level 0\n",
    "    parent = {s:None}\n",
    "    i = 1 # next level is i\n",
    "    frontier = [s]  #points in previous level: level i-1\n",
    "    while len(frontier)!= 0: #当上一个level不为空，则循环\n",
    "        next = []   # points in next level\n",
    "        for u in frontier:  #在上一个level的points中循环\n",
    "            for v in Adj[u]:    #遍历u的所有neighbours.\n",
    "                if v not in level.keys():    #如果v没有level，即没有被遍历过\n",
    "                    next.append(v)  #则在next中加入v\n",
    "                    level[v] = i    #v的level设置为i\n",
    "                    parent[v] = u   #v的parent设置为u\n",
    "        frontier = next\n",
    "        i += 1\n",
    "    return level, parent"
   ]
  },
  {
   "cell_type": "code",
   "execution_count": 4,
   "metadata": {
    "collapsed": true
   },
   "outputs": [],
   "source": [
    "level, parent = BFS(Adj,'s')\n",
    "# print('level',level)\n",
    "# print('parent',parent)"
   ]
  },
  {
   "cell_type": "markdown",
   "metadata": {},
   "source": [
    "### 用queue实现BFS\n",
    "* 用queue存放已遍历过的结点，并按遍历的先后顺序，遍历这些节点的临近结点。\n",
    "* 将queue改成stack，去掉level，parents，就得到DFS算法的实现"
   ]
  },
  {
   "cell_type": "code",
   "execution_count": null,
   "metadata": {
    "collapsed": true
   },
   "outputs": [],
   "source": [
    "from queue import Queue\n",
    "def BFS_1(graph, s):\n",
    "    q = Queue()\n",
    "    parents = {s:None}\n",
    "    i = 0\n",
    "    level = {s:i}\n",
    "    q.put(s)\n",
    "    while not q.empty():\n",
    "        u = q.get()\n",
    "        neighbors = graph[u]\n",
    "        i += 1\n",
    "        for node in neighbors:\n",
    "            if node not in level:\n",
    "                q.put(node)\n",
    "                parents[node] = u\n",
    "                level[node] = i\n",
    "        \n",
    "    return parents, level"
   ]
  },
  {
   "cell_type": "markdown",
   "metadata": {},
   "source": [
    "## Print the shortest path from s to v"
   ]
  },
  {
   "cell_type": "code",
   "execution_count": 7,
   "metadata": {},
   "outputs": [
    {
     "name": "stdout",
     "output_type": "stream",
     "text": [
      "The shortest path from s to v is\n",
      "s\n",
      "x\n",
      "c\n",
      "v\n"
     ]
    }
   ],
   "source": [
    "def print_path(parent,s,v):\n",
    "    \"\"\"\n",
    "    parent: dictionary store the parent nodes information\n",
    "    s: start point\n",
    "    v: object point\n",
    "    \"\"\"\n",
    "    if v == s:\n",
    "        print(s)\n",
    "    elif parent[v] == None:\n",
    "        print(\"No path from\",s, \"to\",v,\"exists\")\n",
    "    else: #print the shortest path from s to parent of v before print v.\n",
    "        print_path(parent,s,parent[v])\n",
    "        print(v)\n",
    "\n",
    "s = 's'; v='v'\n",
    "print('The shortest path from',s,'to',v,'is')\n",
    "print_path(parent,'s','v')"
   ]
  },
  {
   "cell_type": "markdown",
   "metadata": {},
   "source": [
    "## Analysis\n",
    "\n",
    "1. 每个vertex只进入列表 list 一次\n",
    "2. 对于每个v，只在Adj[v]中循环一次，总的循环时间为   \n",
    "    $$       \\text{time} = \\sum_{v\\in V}|Adj(v)| = \\begin{cases}\n",
    "            & |E|, \\text{for directed graph}\\\\\n",
    "            &2|E|, \\text{for nondirected graph}\n",
    "            \\end{cases}      \n",
    "    $$   \n",
    "     故共O(E)时间\n",
    "3. 还要在所有的节点上遍历，则时间共为：O(V+E)\n",
    "4. *从s到v的最短路径就是BFS(Adj,s)所生成的v的level*\n",
    "\n",
    "    总结下，就是在V中iterate，然后对于每个$u \\in V$, 又在$u$ 所有的neighbours中iterate一次，则在所有的边上遍历了一次（或者两次，看是有向图还是无向图）。"
   ]
  }
 ],
 "metadata": {
  "kernelspec": {
   "display_name": "Python 3",
   "language": "python",
   "name": "python3"
  },
  "language_info": {
   "codemirror_mode": {
    "name": "ipython",
    "version": 3
   },
   "file_extension": ".py",
   "mimetype": "text/x-python",
   "name": "python",
   "nbconvert_exporter": "python",
   "pygments_lexer": "ipython3",
   "version": "3.6.3"
  }
 },
 "nbformat": 4,
 "nbformat_minor": 2
}
