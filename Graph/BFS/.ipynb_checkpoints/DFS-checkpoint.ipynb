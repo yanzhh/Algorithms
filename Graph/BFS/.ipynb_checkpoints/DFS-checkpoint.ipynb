{
 "cells": [
  {
   "cell_type": "markdown",
   "metadata": {},
   "source": [
    "# DFS Algorithm\n",
    "## Basic rules\n",
    "* follow path until you get stuck\n",
    "* backtrack along breadcrumbs until reach unexplored neighbor\n",
    "* recursively explore\n",
    "* careful not to repeat a vertex\n"
   ]
  },
  {
   "cell_type": "markdown",
   "metadata": {},
   "source": [
    "## 思考\n",
    "* 从s开始，选择Adj(s)中一个node a，如果a已被遍历，则选择Adj(s)中另一点；如果a未被遍历，则记录已遍历a，并以a为起始点继续进行DFS；\n",
    "        则需要一个表来存储已遍历的结点，这里用dictionary 'parent' 来存储一个node的父节点信息，如果parent存在某节点，则它已被遍历。   \n",
    "        这个过程用 DFS_visit()实现。\n",
    "* 对某一点s运行DFS_visit()，得到的字典parent可以构成一棵深度优先树。但s出发并不一定能遍历所有的点，因此要对图中每一点都运行一次DFS_visit()（如该点当时并没有被访问过）。这样最终可能得到很多棵深度优先树，构成一个深度优先森林。"
   ]
  },
  {
   "cell_type": "code",
   "execution_count": 3,
   "metadata": {},
   "outputs": [
    {
     "name": "stdout",
     "output_type": "stream",
     "text": [
      "{'a': None, 'b': 'a', 'e': 'b', 'd': 'e', 'c': None, 'f': 'c'}\n"
     ]
    }
   ],
   "source": [
    "#Define a graph by Adjacent list \n",
    "Adj = {'a':['b','d'], 'b':['e'],'d':['b'], 'e':['d'], 'c':['e','f'], 'f':['f']}\n",
    "\n",
    "def DFS_visit(Adj,parent,s): #遍历所有从s出发可以遍历到的点，并利用字典parent存储一棵深度优先树。\n",
    "    for v in Adj[s]:\n",
    "        if v not in parent.keys():\n",
    "            parent[v] = s\n",
    "            parent = DFS_visit(Adj,parent,v)\n",
    "    return parent\n",
    "\n",
    "def DFS(Adj):\n",
    "    parent = {}\n",
    "    for s in Adj:   #从s出发并不一定能遍历graph中所有的点，故要从图中所有点出发遍历一遍。\n",
    "        if s not in parent:\n",
    "            parent[s] = None                      #s没有被iterate过，那么s的parent为None\n",
    "            parent = DFS_visit(Adj,parent,s)      #然后对s进行DFS\n",
    "    return parent\n",
    "    \n",
    "parent = DFS(Adj)\n",
    "print(parent)"
   ]
  },
  {
   "cell_type": "code",
   "execution_count": null,
   "metadata": {
    "collapsed": true
   },
   "outputs": [],
   "source": []
  }
 ],
 "metadata": {
  "kernelspec": {
   "display_name": "Python 3",
   "language": "python",
   "name": "python3"
  },
  "language_info": {
   "codemirror_mode": {
    "name": "ipython",
    "version": 3
   },
   "file_extension": ".py",
   "mimetype": "text/x-python",
   "name": "python",
   "nbconvert_exporter": "python",
   "pygments_lexer": "ipython3",
   "version": "3.6.3"
  }
 },
 "nbformat": 4,
 "nbformat_minor": 2
}
