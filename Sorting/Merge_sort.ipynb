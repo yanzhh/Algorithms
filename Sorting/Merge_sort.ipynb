{
 "cells": [
  {
   "cell_type": "markdown",
   "metadata": {},
   "source": [
    "## Merge - sort\n"
   ]
  },
  {
   "cell_type": "markdown",
   "metadata": {},
   "source": [
    "### Merge\n",
    "* 合并两个已经排序的序列left和right\n",
    "* 比较left[i] 和 right[j], i,j 用来跟踪两个序列的元素index; 将小的那个元素放入序列 result.\n",
    "* 当left 和 right中有任何一个全部元素都已放入result中，则将两个序列剩余的全部元素放入result中。"
   ]
  },
  {
   "cell_type": "code",
   "execution_count": null,
   "metadata": {
    "collapsed": true
   },
   "outputs": [],
   "source": [
    "def merge(left, right):\n",
    "    result = []\n",
    "    i, j = 0, 0\n",
    "    while i < len(left) and j < len(right): # when both array left and right are not empty\n",
    "        if left[i] <= right[j]:\n",
    "            result.append(left[i])\n",
    "            i += 1\n",
    "        else:\n",
    "            result.append(right[j])\n",
    "            j += 1\n",
    "    if i = len(left): # array left is empty\n",
    "        result += right[j:]\n",
    "    else:\n",
    "        result += left[i:]"
   ]
  },
  {
   "cell_type": "markdown",
   "metadata": {},
   "source": [
    "### mergesort:\n",
    "* 输入：list L; 输出：排过序的list\n",
    "* 使用分治法的思想，将L分成两半，用递归完成"
   ]
  },
  {
   "cell_type": "code",
   "execution_count": null,
   "metadata": {
    "collapsed": true
   },
   "outputs": [],
   "source": [
    "def mergesort(L):\n",
    "    if len(L) < 2:\n",
    "        return L[:] #这里不能直接返回L，否则会改变实参L\n",
    "    else:\n",
    "        mid = len(L)//2                                                                 # Θ(1)\n",
    "        left = mergesort(L[:mid])                                                  \n",
    "        right = mergesort(L[mid:])\n",
    "        return merge(left, right)"
   ]
  },
  {
   "cell_type": "markdown",
   "metadata": {},
   "source": [
    "### Analysis mergesort()\n",
    "对输入长度为n的序列，最坏情况下运行时间T(n)的分析\n",
    "* line 4: $\\Theta(1)$\n",
    "* line 6,7: $2*T(n/2)$\n",
    "* line 8: left + right总长度为n, 则 merge(left, right) 所需时间为 $\\Theta (n) $.\n",
    "* 总时间为：\n",
    "    \\begin{equation}\n",
    "        T(n) = \\begin{cases}\n",
    "                    \\Theta (1), & \\text{ if } n = 1 \\\\\n",
    "                    2T(n/2) + \\Theta (n) & \\text{ if } n > 1\n",
    "                   \\end{cases}\n",
    "    \\end{equation}\n",
    "* Thus, $T(n) = \\Theta (n \\lg n)$"
   ]
  },
  {
   "cell_type": "code",
   "execution_count": null,
   "metadata": {
    "collapsed": true
   },
   "outputs": [],
   "source": []
  }
 ],
 "metadata": {
  "kernelspec": {
   "display_name": "Python 3",
   "language": "python",
   "name": "python3"
  },
  "language_info": {
   "codemirror_mode": {
    "name": "ipython",
    "version": 3
   },
   "file_extension": ".py",
   "mimetype": "text/x-python",
   "name": "python",
   "nbconvert_exporter": "python",
   "pygments_lexer": "ipython3",
   "version": "3.6.3"
  }
 },
 "nbformat": 4,
 "nbformat_minor": 2
}
