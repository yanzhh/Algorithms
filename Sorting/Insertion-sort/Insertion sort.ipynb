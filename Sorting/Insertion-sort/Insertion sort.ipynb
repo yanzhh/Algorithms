{
 "cells": [
  {
   "cell_type": "markdown",
   "metadata": {},
   "source": [
    "## Insertion sort  \n",
    "input: A[1...n], 长度为n的要排序的一个序列；\n",
    "output: a list A of elements arranged from smallest to greatest.\n",
    "### psydo-code\n",
    "    for j = 2 to A.length\n",
    "        key = A[j]                 //将A[j]暂存到key中。\n",
    "        // insert A[j] to the sorted sequence A[1..j-1]\n",
    "        i = j-1\n",
    "        while i > 0 and A[i] > key    //while 循环直到找到排好序的序列中有比key小的 A[i]，同时它将比key大的值向后传递一位。\n",
    "            A[i+1] = A[i]\n",
    "            i = i-1\n",
    "        A[i+1] = key\n",
    "\n",
    "\n",
    "   \n",
    "for循环中，A[1..j-1]是已排好序的序列，A[j+1..n]内是等待排序的元素，key值是待插入A[1..j-1]的元素值；   \n",
    "while循环：每循环一次比较A[i]和key的大小，如果key较小则将A[i]放到后一元素上，并让i减小1\n",
    "最终，找到A[1..j-1]中比key小的元素，将其前一个元素替换成key值。\n",
    "\n",
    "* 这是一个in place算法（原址算法），排序时只有常数个元素存储在数组之外。\n",
    "\n",
    "### 算法复杂度\n",
    "* 最坏情况：输入序列从大到小排列，则需比较 $1+2+...+(n-1)=\\frac{n(n-1)}{2} = O(n^2) $ 次。\n",
    "* 平均：$O(n^2)$次"
   ]
  },
  {
   "cell_type": "code",
   "execution_count": 10,
   "metadata": {},
   "outputs": [
    {
     "name": "stdout",
     "output_type": "stream",
     "text": [
      "[19, 5, 9, 20, 7, 8, 6, 8, 20, 10]\n"
     ]
    }
   ],
   "source": [
    "# generate list A of length n\n",
    "import random\n",
    "n = 10\n",
    "A = []\n",
    "[A.append(random.randint(0,2*n)) for i in range(n)]\n",
    "print(A)"
   ]
  },
  {
   "cell_type": "code",
   "execution_count": 11,
   "metadata": {},
   "outputs": [
    {
     "name": "stdout",
     "output_type": "stream",
     "text": [
      "[5, 6, 7, 8, 8, 9, 10, 19, 20, 20]\n"
     ]
    }
   ],
   "source": [
    "def insertionsort(A):\n",
    "    for j in range(1, n):\n",
    "        key = A[j]\n",
    "        i = j - 1 \n",
    "        while i >= 0 and A[i] > key:\n",
    "            A[i+1] = A[i]\n",
    "            i = i-1\n",
    "        A[i + 1] = key\n",
    "    return A\n",
    "print(insertionsort(A))"
   ]
  },
  {
   "cell_type": "code",
   "execution_count": null,
   "metadata": {
    "collapsed": true
   },
   "outputs": [],
   "source": []
  }
 ],
 "metadata": {
  "kernelspec": {
   "display_name": "Python 3",
   "language": "python",
   "name": "python3"
  },
  "language_info": {
   "codemirror_mode": {
    "name": "ipython",
    "version": 3
   },
   "file_extension": ".py",
   "mimetype": "text/x-python",
   "name": "python",
   "nbconvert_exporter": "python",
   "pygments_lexer": "ipython3",
   "version": "3.6.3"
  }
 },
 "nbformat": 4,
 "nbformat_minor": 2
}
