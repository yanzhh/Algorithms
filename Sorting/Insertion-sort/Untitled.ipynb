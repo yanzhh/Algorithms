{
 "cells": [
  {
   "cell_type": "markdown",
   "metadata": {},
   "source": [
    "## Insertion sort  \n",
    "input: A[1...n], 长度为n的要排序的一个序列；\n",
    "output: a list A of elements arranged from smallest to greatest.\n",
    "### psydo-code\n",
    "    for j = 2 to A.length\n",
    "        key = A[j]\n",
    "        // insert A[j] to the sorted sequence A[1..j-1]\n",
    "        i = j-1\n",
    "        while i > 0 and A[i] > key\n",
    "            A[i+1] = A[i]\n",
    "            i = i-1\n",
    "        A[i+1] = key\n",
    "\n",
    "\n",
    "   \n",
    "for循环中，A[1..j-1]是已排好序的序列，A[j+1..n]内是等待排序的元素，key值是待插入A[1..j-1]的元素值；\n",
    "while循环：每循环一次比较A[i]和key的大小，如果key较小则将A[i]放到后一元素上，并让i减小1\n",
    "最终，找到A[1..j-1]中比key小的元素，将其前一个元素替换成key值。"
   ]
  },
  {
   "cell_type": "code",
   "execution_count": 10,
   "metadata": {},
   "outputs": [
    {
     "name": "stdout",
     "output_type": "stream",
     "text": [
      "[19, 5, 9, 20, 7, 8, 6, 8, 20, 10]\n"
     ]
    }
   ],
   "source": [
    "# generate list A of length n\n",
    "import random\n",
    "n = 10\n",
    "A = []\n",
    "[A.append(random.randint(0,2*n)) for i in range(n)]\n",
    "print(A)"
   ]
  },
  {
   "cell_type": "code",
   "execution_count": 11,
   "metadata": {},
   "outputs": [
    {
     "name": "stdout",
     "output_type": "stream",
     "text": [
      "[5, 6, 7, 8, 8, 9, 10, 19, 20, 20]\n"
     ]
    }
   ],
   "source": [
    "def insertionsort(A):\n",
    "    for j in range(1, n):\n",
    "        key = A[j]\n",
    "        i = j - 1 \n",
    "        while i >= 0 and A[i] > key:\n",
    "            A[i+1] = A[i]\n",
    "            i = i-1\n",
    "        A[i + 1] = key\n",
    "    return A\n",
    "print(insertionsort(A))"
   ]
  },
  {
   "cell_type": "code",
   "execution_count": null,
   "metadata": {
    "collapsed": true
   },
   "outputs": [],
   "source": []
  }
 ],
 "metadata": {
  "kernelspec": {
   "display_name": "Python 3",
   "language": "python",
   "name": "python3"
  },
  "language_info": {
   "codemirror_mode": {
    "name": "ipython",
    "version": 3
   },
   "file_extension": ".py",
   "mimetype": "text/x-python",
   "name": "python",
   "nbconvert_exporter": "python",
   "pygments_lexer": "ipython3",
   "version": "3.6.3"
  }
 },
 "nbformat": 4,
 "nbformat_minor": 2
}
